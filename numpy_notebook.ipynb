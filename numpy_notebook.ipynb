{
 "cells": [
  {
   "cell_type": "markdown",
   "metadata": {},
   "source": [
    "### 导入numpy"
   ]
  },
  {
   "cell_type": "code",
   "execution_count": 2,
   "metadata": {},
   "outputs": [],
   "source": [
    "import numpy as np"
   ]
  },
  {
   "cell_type": "code",
   "execution_count": 3,
   "metadata": {},
   "outputs": [],
   "source": [
    "my_arr = np.arange(1000000)"
   ]
  },
  {
   "cell_type": "code",
   "execution_count": 4,
   "metadata": {},
   "outputs": [],
   "source": [
    "my_list = list(range(1000000))"
   ]
  },
  {
   "cell_type": "code",
   "execution_count": 7,
   "metadata": {},
   "outputs": [
    {
     "name": "stdout",
     "output_type": "stream",
     "text": [
      "CPU times: user 3 µs, sys: 1 µs, total: 4 µs\n",
      "Wall time: 5.96 µs\n"
     ]
    }
   ],
   "source": [
    "%time \n",
    "for _ in range(10):\n",
    "    my_arr2 = my_arr * 2"
   ]
  },
  {
   "cell_type": "code",
   "execution_count": 8,
   "metadata": {},
   "outputs": [
    {
     "name": "stdout",
     "output_type": "stream",
     "text": [
      "CPU times: user 2 µs, sys: 1 µs, total: 3 µs\n",
      "Wall time: 4.77 µs\n"
     ]
    }
   ],
   "source": [
    "%time\n",
    "for _ in range(10):\n",
    "    my_list2 = my_list * 2"
   ]
  },
  {
   "cell_type": "markdown",
   "metadata": {},
   "source": [
    "#从上面我们可以看出，numpy的效率比上list还是要快很多的。"
   ]
  },
  {
   "cell_type": "markdown",
   "metadata": {},
   "source": [
    "### numpy是一种大的数据容器"
   ]
  },
  {
   "cell_type": "code",
   "execution_count": 9,
   "metadata": {},
   "outputs": [],
   "source": [
    "import numpy as np"
   ]
  },
  {
   "cell_type": "code",
   "execution_count": 10,
   "metadata": {},
   "outputs": [],
   "source": [
    "data = np.random.randn(2,3) # 生成随机数据"
   ]
  },
  {
   "cell_type": "code",
   "execution_count": 11,
   "metadata": {},
   "outputs": [
    {
     "data": {
      "text/plain": [
       "array([[-0.84805626,  0.28742893,  0.94296433],\n",
       "       [ 0.16933291,  0.75820137, -1.52769664]])"
      ]
     },
     "execution_count": 11,
     "metadata": {},
     "output_type": "execute_result"
    }
   ],
   "source": [
    "data"
   ]
  },
  {
   "cell_type": "code",
   "execution_count": 12,
   "metadata": {},
   "outputs": [
    {
     "data": {
      "text/plain": [
       "array([[ -8.48056265,   2.87428935,   9.42964335],\n",
       "       [  1.69332908,   7.58201374, -15.27696636]])"
      ]
     },
     "execution_count": 12,
     "metadata": {},
     "output_type": "execute_result"
    }
   ],
   "source": [
    "data * 10"
   ]
  },
  {
   "cell_type": "code",
   "execution_count": 13,
   "metadata": {},
   "outputs": [
    {
     "data": {
      "text/plain": [
       "array([[-1.69611253,  0.57485787,  1.88592867],\n",
       "       [ 0.33866582,  1.51640275, -3.05539327]])"
      ]
     },
     "execution_count": 13,
     "metadata": {},
     "output_type": "execute_result"
    }
   ],
   "source": [
    "data + data"
   ]
  },
  {
   "cell_type": "code",
   "execution_count": 14,
   "metadata": {},
   "outputs": [
    {
     "data": {
      "text/plain": [
       "(2, 3)"
      ]
     },
     "execution_count": 14,
     "metadata": {},
     "output_type": "execute_result"
    }
   ],
   "source": [
    "data.shape"
   ]
  },
  {
   "cell_type": "code",
   "execution_count": 15,
   "metadata": {},
   "outputs": [
    {
     "data": {
      "text/plain": [
       "dtype('float64')"
      ]
     },
     "execution_count": 15,
     "metadata": {},
     "output_type": "execute_result"
    }
   ],
   "source": [
    "data.dtype"
   ]
  },
  {
   "cell_type": "markdown",
   "metadata": {},
   "source": [
    "### 创建ndarray"
   ]
  },
  {
   "cell_type": "code",
   "execution_count": 16,
   "metadata": {},
   "outputs": [],
   "source": [
    "data1 = [6,7.5,8,0,1]"
   ]
  },
  {
   "cell_type": "code",
   "execution_count": 17,
   "metadata": {},
   "outputs": [],
   "source": [
    "arr1 = np.array(data1) #将list转化为array"
   ]
  },
  {
   "cell_type": "code",
   "execution_count": 18,
   "metadata": {},
   "outputs": [
    {
     "data": {
      "text/plain": [
       "array([6. , 7.5, 8. , 0. , 1. ])"
      ]
     },
     "execution_count": 18,
     "metadata": {},
     "output_type": "execute_result"
    }
   ],
   "source": [
    "arr1"
   ]
  },
  {
   "cell_type": "code",
   "execution_count": 19,
   "metadata": {},
   "outputs": [],
   "source": [
    "data2 = [[1,2,3,4],[5,6,7,8]]"
   ]
  },
  {
   "cell_type": "code",
   "execution_count": 20,
   "metadata": {},
   "outputs": [],
   "source": [
    "arr2 = np.array(data2)"
   ]
  },
  {
   "cell_type": "code",
   "execution_count": 21,
   "metadata": {},
   "outputs": [
    {
     "data": {
      "text/plain": [
       "array([[1, 2, 3, 4],\n",
       "       [5, 6, 7, 8]])"
      ]
     },
     "execution_count": 21,
     "metadata": {},
     "output_type": "execute_result"
    }
   ],
   "source": [
    "arr2"
   ]
  },
  {
   "cell_type": "code",
   "execution_count": 22,
   "metadata": {},
   "outputs": [
    {
     "data": {
      "text/plain": [
       "2"
      ]
     },
     "execution_count": 22,
     "metadata": {},
     "output_type": "execute_result"
    }
   ],
   "source": [
    "arr2.ndim #dimension"
   ]
  },
  {
   "cell_type": "code",
   "execution_count": 23,
   "metadata": {},
   "outputs": [
    {
     "data": {
      "text/plain": [
       "(2, 4)"
      ]
     },
     "execution_count": 23,
     "metadata": {},
     "output_type": "execute_result"
    }
   ],
   "source": [
    "arr2.shape"
   ]
  },
  {
   "cell_type": "code",
   "execution_count": 24,
   "metadata": {},
   "outputs": [
    {
     "data": {
      "text/plain": [
       "dtype('float64')"
      ]
     },
     "execution_count": 24,
     "metadata": {},
     "output_type": "execute_result"
    }
   ],
   "source": [
    "arr1.dtype"
   ]
  },
  {
   "cell_type": "code",
   "execution_count": 25,
   "metadata": {},
   "outputs": [
    {
     "data": {
      "text/plain": [
       "dtype('int64')"
      ]
     },
     "execution_count": 25,
     "metadata": {},
     "output_type": "execute_result"
    }
   ],
   "source": [
    "arr2.dtype"
   ]
  },
  {
   "cell_type": "code",
   "execution_count": 26,
   "metadata": {},
   "outputs": [
    {
     "data": {
      "text/plain": [
       "array([0., 0., 0., 0., 0., 0., 0., 0., 0., 0.])"
      ]
     },
     "execution_count": 26,
     "metadata": {},
     "output_type": "execute_result"
    }
   ],
   "source": [
    "np.zeros(10)"
   ]
  },
  {
   "cell_type": "code",
   "execution_count": 27,
   "metadata": {},
   "outputs": [
    {
     "data": {
      "text/plain": [
       "array([[0., 0., 0., 0., 0., 0.],\n",
       "       [0., 0., 0., 0., 0., 0.],\n",
       "       [0., 0., 0., 0., 0., 0.]])"
      ]
     },
     "execution_count": 27,
     "metadata": {},
     "output_type": "execute_result"
    }
   ],
   "source": [
    "np.zeros((3,6))"
   ]
  },
  {
   "cell_type": "code",
   "execution_count": 28,
   "metadata": {},
   "outputs": [
    {
     "data": {
      "text/plain": [
       "array([[[0.00000000e+000, 0.00000000e+000],\n",
       "        [0.00000000e+000, 0.00000000e+000],\n",
       "        [0.00000000e+000, 0.00000000e+000]],\n",
       "\n",
       "       [[0.00000000e+000, 0.00000000e+000],\n",
       "        [0.00000000e+000, 0.00000000e+000],\n",
       "        [0.00000000e+000, 2.14321575e-312]]])"
      ]
     },
     "execution_count": 28,
     "metadata": {},
     "output_type": "execute_result"
    }
   ],
   "source": [
    "np.empty((2,3,2))"
   ]
  },
  {
   "cell_type": "code",
   "execution_count": 30,
   "metadata": {},
   "outputs": [
    {
     "data": {
      "text/plain": [
       "array([ 0,  1,  2,  3,  4,  5,  6,  7,  8,  9, 10, 11, 12, 13, 14])"
      ]
     },
     "execution_count": 30,
     "metadata": {},
     "output_type": "execute_result"
    }
   ],
   "source": [
    "np.arange(15)"
   ]
  },
  {
   "cell_type": "markdown",
   "metadata": {},
   "source": [
    "### ndarray的数据类型"
   ]
  },
  {
   "cell_type": "code",
   "execution_count": 31,
   "metadata": {},
   "outputs": [],
   "source": [
    "arr1 = np.array([1,2,3],dtype=np.float64)"
   ]
  },
  {
   "cell_type": "code",
   "execution_count": 32,
   "metadata": {},
   "outputs": [],
   "source": [
    "arr1 = np.array([1,2,3],dtype=np.int32)"
   ]
  },
  {
   "cell_type": "code",
   "execution_count": 33,
   "metadata": {},
   "outputs": [
    {
     "data": {
      "text/plain": [
       "dtype('int32')"
      ]
     },
     "execution_count": 33,
     "metadata": {},
     "output_type": "execute_result"
    }
   ],
   "source": [
    "arr1.dtype"
   ]
  },
  {
   "cell_type": "code",
   "execution_count": 34,
   "metadata": {},
   "outputs": [
    {
     "data": {
      "text/plain": [
       "dtype('int64')"
      ]
     },
     "execution_count": 34,
     "metadata": {},
     "output_type": "execute_result"
    }
   ],
   "source": [
    "arr2.dtype"
   ]
  },
  {
   "cell_type": "code",
   "execution_count": 35,
   "metadata": {},
   "outputs": [],
   "source": [
    "arr = np.array([1,2,3,4,5])"
   ]
  },
  {
   "cell_type": "code",
   "execution_count": 36,
   "metadata": {},
   "outputs": [
    {
     "data": {
      "text/plain": [
       "dtype('int64')"
      ]
     },
     "execution_count": 36,
     "metadata": {},
     "output_type": "execute_result"
    }
   ],
   "source": [
    "arr.dtype"
   ]
  },
  {
   "cell_type": "code",
   "execution_count": 37,
   "metadata": {},
   "outputs": [],
   "source": [
    "float_arr = arr.astype(np.float)"
   ]
  },
  {
   "cell_type": "code",
   "execution_count": 38,
   "metadata": {},
   "outputs": [
    {
     "data": {
      "text/plain": [
       "dtype('float64')"
      ]
     },
     "execution_count": 38,
     "metadata": {},
     "output_type": "execute_result"
    }
   ],
   "source": [
    "float_arr.dtype"
   ]
  },
  {
   "cell_type": "code",
   "execution_count": 39,
   "metadata": {},
   "outputs": [],
   "source": [
    "arr = np.array([3.7, -1.2, -2.6, 0.5, 12.9, 10.1])"
   ]
  },
  {
   "cell_type": "code",
   "execution_count": 40,
   "metadata": {},
   "outputs": [
    {
     "data": {
      "text/plain": [
       "array([ 3.7, -1.2, -2.6,  0.5, 12.9, 10.1])"
      ]
     },
     "execution_count": 40,
     "metadata": {},
     "output_type": "execute_result"
    }
   ],
   "source": [
    "arr"
   ]
  },
  {
   "cell_type": "code",
   "execution_count": 42,
   "metadata": {},
   "outputs": [
    {
     "data": {
      "text/plain": [
       "array([ 3, -1, -2,  0, 12, 10], dtype=int32)"
      ]
     },
     "execution_count": 42,
     "metadata": {},
     "output_type": "execute_result"
    }
   ],
   "source": [
    "arr.astype(np.int32)"
   ]
  },
  {
   "cell_type": "code",
   "execution_count": 43,
   "metadata": {},
   "outputs": [],
   "source": [
    "numeric_strings = np.array(['1.25', '-9.6', '42'],\n",
    "dtype=np.string_)"
   ]
  },
  {
   "cell_type": "code",
   "execution_count": 44,
   "metadata": {},
   "outputs": [
    {
     "data": {
      "text/plain": [
       "array([ 1.25, -9.6 , 42.  ])"
      ]
     },
     "execution_count": 44,
     "metadata": {},
     "output_type": "execute_result"
    }
   ],
   "source": [
    "numeric_strings.astype(float)"
   ]
  },
  {
   "cell_type": "markdown",
   "metadata": {},
   "source": [
    "### numpy数组的运算"
   ]
  },
  {
   "cell_type": "code",
   "execution_count": 45,
   "metadata": {},
   "outputs": [],
   "source": [
    "arr = np.array([[1,2,3],[4,5,6]])"
   ]
  },
  {
   "cell_type": "code",
   "execution_count": 46,
   "metadata": {},
   "outputs": [
    {
     "data": {
      "text/plain": [
       "array([[1, 2, 3],\n",
       "       [4, 5, 6]])"
      ]
     },
     "execution_count": 46,
     "metadata": {},
     "output_type": "execute_result"
    }
   ],
   "source": [
    "arr"
   ]
  },
  {
   "cell_type": "code",
   "execution_count": 47,
   "metadata": {},
   "outputs": [
    {
     "data": {
      "text/plain": [
       "array([[ 1,  4,  9],\n",
       "       [16, 25, 36]])"
      ]
     },
     "execution_count": 47,
     "metadata": {},
     "output_type": "execute_result"
    }
   ],
   "source": [
    "arr * arr"
   ]
  },
  {
   "cell_type": "code",
   "execution_count": 48,
   "metadata": {},
   "outputs": [
    {
     "data": {
      "text/plain": [
       "array([[0, 0, 0],\n",
       "       [0, 0, 0]])"
      ]
     },
     "execution_count": 48,
     "metadata": {},
     "output_type": "execute_result"
    }
   ],
   "source": [
    "arr - arr"
   ]
  },
  {
   "cell_type": "code",
   "execution_count": 49,
   "metadata": {},
   "outputs": [
    {
     "data": {
      "text/plain": [
       "array([[1.        , 0.5       , 0.33333333],\n",
       "       [0.25      , 0.2       , 0.16666667]])"
      ]
     },
     "execution_count": 49,
     "metadata": {},
     "output_type": "execute_result"
    }
   ],
   "source": [
    "1 / arr"
   ]
  },
  {
   "cell_type": "code",
   "execution_count": 50,
   "metadata": {},
   "outputs": [
    {
     "data": {
      "text/plain": [
       "array([[1.        , 1.41421356, 1.73205081],\n",
       "       [2.        , 2.23606798, 2.44948974]])"
      ]
     },
     "execution_count": 50,
     "metadata": {},
     "output_type": "execute_result"
    }
   ],
   "source": [
    "arr ** 0.5"
   ]
  },
  {
   "cell_type": "code",
   "execution_count": 51,
   "metadata": {},
   "outputs": [],
   "source": [
    "arr2 = np.array([[0., 4., 1.], [7., 2., 12.]])"
   ]
  },
  {
   "cell_type": "code",
   "execution_count": 52,
   "metadata": {},
   "outputs": [
    {
     "data": {
      "text/plain": [
       "array([[ 0.,  4.,  1.],\n",
       "       [ 7.,  2., 12.]])"
      ]
     },
     "execution_count": 52,
     "metadata": {},
     "output_type": "execute_result"
    }
   ],
   "source": [
    "arr2"
   ]
  },
  {
   "cell_type": "code",
   "execution_count": 53,
   "metadata": {},
   "outputs": [
    {
     "data": {
      "text/plain": [
       "array([[False,  True, False],\n",
       "       [ True, False,  True]])"
      ]
     },
     "execution_count": 53,
     "metadata": {},
     "output_type": "execute_result"
    }
   ],
   "source": [
    "arr2 > arr # 不同大小的数组之间的运算叫做广播(broadcasting)"
   ]
  },
  {
   "cell_type": "markdown",
   "metadata": {},
   "source": [
    "### 基本的索引和切片"
   ]
  },
  {
   "cell_type": "code",
   "execution_count": 54,
   "metadata": {},
   "outputs": [],
   "source": [
    "arr = np.arange(10)"
   ]
  },
  {
   "cell_type": "code",
   "execution_count": 55,
   "metadata": {},
   "outputs": [
    {
     "data": {
      "text/plain": [
       "array([0, 1, 2, 3, 4, 5, 6, 7, 8, 9])"
      ]
     },
     "execution_count": 55,
     "metadata": {},
     "output_type": "execute_result"
    }
   ],
   "source": [
    "arr"
   ]
  },
  {
   "cell_type": "code",
   "execution_count": 56,
   "metadata": {},
   "outputs": [
    {
     "data": {
      "text/plain": [
       "array([5, 6, 7])"
      ]
     },
     "execution_count": 56,
     "metadata": {},
     "output_type": "execute_result"
    }
   ],
   "source": [
    "arr[5:8]"
   ]
  },
  {
   "cell_type": "code",
   "execution_count": 57,
   "metadata": {},
   "outputs": [
    {
     "data": {
      "text/plain": [
       "5"
      ]
     },
     "execution_count": 57,
     "metadata": {},
     "output_type": "execute_result"
    }
   ],
   "source": [
    "arr[5]"
   ]
  },
  {
   "cell_type": "code",
   "execution_count": 58,
   "metadata": {},
   "outputs": [],
   "source": [
    "arr[5:8] = 12"
   ]
  },
  {
   "cell_type": "code",
   "execution_count": 59,
   "metadata": {},
   "outputs": [
    {
     "data": {
      "text/plain": [
       "array([ 0,  1,  2,  3,  4, 12, 12, 12,  8,  9])"
      ]
     },
     "execution_count": 59,
     "metadata": {},
     "output_type": "execute_result"
    }
   ],
   "source": [
    "arr"
   ]
  },
  {
   "cell_type": "code",
   "execution_count": 60,
   "metadata": {},
   "outputs": [
    {
     "data": {
      "text/plain": [
       "array([12, 12, 12])"
      ]
     },
     "execution_count": 60,
     "metadata": {},
     "output_type": "execute_result"
    }
   ],
   "source": [
    "arr_slice = arr[5:8]\n",
    "arr_slice"
   ]
  },
  {
   "cell_type": "code",
   "execution_count": 61,
   "metadata": {},
   "outputs": [],
   "source": [
    "arr_slice[1] = 12345"
   ]
  },
  {
   "cell_type": "code",
   "execution_count": 62,
   "metadata": {},
   "outputs": [
    {
     "data": {
      "text/plain": [
       "array([    0,     1,     2,     3,     4,    12, 12345,    12,     8,\n",
       "           9])"
      ]
     },
     "execution_count": 62,
     "metadata": {},
     "output_type": "execute_result"
    }
   ],
   "source": [
    "arr # 其实这个就是python的基础知识，因为参数名虽然不同，但是其实指向的同一个内存区域，取值都是一样的"
   ]
  },
  {
   "cell_type": "code",
   "execution_count": 63,
   "metadata": {},
   "outputs": [],
   "source": [
    "arr_slice[:] = 64 #接上，我们可以采取[:]的方式来复制列表，但是效率比较低，我们可以用copy模块来比较高效率的复制列表"
   ]
  },
  {
   "cell_type": "code",
   "execution_count": 64,
   "metadata": {},
   "outputs": [
    {
     "data": {
      "text/plain": [
       "array([ 0,  1,  2,  3,  4, 64, 64, 64,  8,  9])"
      ]
     },
     "execution_count": 64,
     "metadata": {},
     "output_type": "execute_result"
    }
   ],
   "source": [
    "arr"
   ]
  },
  {
   "cell_type": "markdown",
   "metadata": {},
   "source": [
    ">由于 NumPy 的设计目的是处理大数据，所以 你可以想象一下，假如 NumPy 坚持要将数据复制来复制去的话会产生何等的性 能和内存问题。\n",
    "\n",
    "确实如此"
   ]
  },
  {
   "cell_type": "code",
   "execution_count": 65,
   "metadata": {},
   "outputs": [],
   "source": [
    "arr2d = np.array([[1, 2, 3], [4, 5, 6], [7, 8, 9]])"
   ]
  },
  {
   "cell_type": "code",
   "execution_count": 66,
   "metadata": {},
   "outputs": [
    {
     "data": {
      "text/plain": [
       "2"
      ]
     },
     "execution_count": 66,
     "metadata": {},
     "output_type": "execute_result"
    }
   ],
   "source": [
    "arr2d.ndim"
   ]
  },
  {
   "cell_type": "code",
   "execution_count": 67,
   "metadata": {},
   "outputs": [
    {
     "data": {
      "text/plain": [
       "array([7, 8, 9])"
      ]
     },
     "execution_count": 67,
     "metadata": {},
     "output_type": "execute_result"
    }
   ],
   "source": [
    "arr2d[2]"
   ]
  },
  {
   "cell_type": "code",
   "execution_count": 68,
   "metadata": {},
   "outputs": [
    {
     "data": {
      "text/plain": [
       "3"
      ]
     },
     "execution_count": 68,
     "metadata": {},
     "output_type": "execute_result"
    }
   ],
   "source": [
    "arr2d[0][2]"
   ]
  },
  {
   "cell_type": "code",
   "execution_count": 69,
   "metadata": {},
   "outputs": [
    {
     "data": {
      "text/plain": [
       "3"
      ]
     },
     "execution_count": 69,
     "metadata": {},
     "output_type": "execute_result"
    }
   ],
   "source": [
    "arr2d[0,2]"
   ]
  },
  {
   "cell_type": "code",
   "execution_count": 92,
   "metadata": {},
   "outputs": [],
   "source": [
    "arr3d = np.array([[[1, 2, 3], [4, 5, 6]], [[7, 8, 9], [10,\n",
    "11, 12]]])"
   ]
  },
  {
   "cell_type": "code",
   "execution_count": 93,
   "metadata": {},
   "outputs": [
    {
     "data": {
      "text/plain": [
       "array([[[ 1,  2,  3],\n",
       "        [ 4,  5,  6]],\n",
       "\n",
       "       [[ 7,  8,  9],\n",
       "        [10, 11, 12]]])"
      ]
     },
     "execution_count": 93,
     "metadata": {},
     "output_type": "execute_result"
    }
   ],
   "source": [
    "arr3d"
   ]
  },
  {
   "cell_type": "code",
   "execution_count": 94,
   "metadata": {},
   "outputs": [
    {
     "data": {
      "text/plain": [
       "3"
      ]
     },
     "execution_count": 94,
     "metadata": {},
     "output_type": "execute_result"
    }
   ],
   "source": [
    "arr3d.ndim #这里的dim其实就是数组的深度，比如我从最外层到最里面一层需要多少次操作就是多少dim"
   ]
  },
  {
   "cell_type": "code",
   "execution_count": 95,
   "metadata": {},
   "outputs": [
    {
     "data": {
      "text/plain": [
       "array([[1, 2, 3],\n",
       "       [4, 5, 6]])"
      ]
     },
     "execution_count": 95,
     "metadata": {},
     "output_type": "execute_result"
    }
   ],
   "source": [
    "arr3d[0]"
   ]
  },
  {
   "cell_type": "code",
   "execution_count": 96,
   "metadata": {},
   "outputs": [],
   "source": [
    "old_values = arr3d[0].copy() #之前就是这里忘记了.copy()导致了结果是错的"
   ]
  },
  {
   "cell_type": "code",
   "execution_count": 97,
   "metadata": {},
   "outputs": [
    {
     "data": {
      "text/plain": [
       "array([[1, 2, 3],\n",
       "       [4, 5, 6]])"
      ]
     },
     "execution_count": 97,
     "metadata": {},
     "output_type": "execute_result"
    }
   ],
   "source": [
    "old_values"
   ]
  },
  {
   "cell_type": "code",
   "execution_count": 98,
   "metadata": {},
   "outputs": [],
   "source": [
    "arr3d[0] = 42"
   ]
  },
  {
   "cell_type": "code",
   "execution_count": 99,
   "metadata": {},
   "outputs": [
    {
     "data": {
      "text/plain": [
       "array([[[42, 42, 42],\n",
       "        [42, 42, 42]],\n",
       "\n",
       "       [[ 7,  8,  9],\n",
       "        [10, 11, 12]]])"
      ]
     },
     "execution_count": 99,
     "metadata": {},
     "output_type": "execute_result"
    }
   ],
   "source": [
    "arr3d"
   ]
  },
  {
   "cell_type": "code",
   "execution_count": 100,
   "metadata": {},
   "outputs": [],
   "source": [
    "arr3d[0] = old_values"
   ]
  },
  {
   "cell_type": "code",
   "execution_count": 101,
   "metadata": {},
   "outputs": [
    {
     "data": {
      "text/plain": [
       "array([[[ 1,  2,  3],\n",
       "        [ 4,  5,  6]],\n",
       "\n",
       "       [[ 7,  8,  9],\n",
       "        [10, 11, 12]]])"
      ]
     },
     "execution_count": 101,
     "metadata": {},
     "output_type": "execute_result"
    }
   ],
   "source": [
    "arr3d"
   ]
  },
  {
   "cell_type": "code",
   "execution_count": 102,
   "metadata": {},
   "outputs": [
    {
     "data": {
      "text/plain": [
       "array([7, 8, 9])"
      ]
     },
     "execution_count": 102,
     "metadata": {},
     "output_type": "execute_result"
    }
   ],
   "source": [
    "arr3d[1,0]"
   ]
  },
  {
   "cell_type": "markdown",
   "metadata": {},
   "source": [
    "切片索引"
   ]
  },
  {
   "cell_type": "code",
   "execution_count": 103,
   "metadata": {},
   "outputs": [
    {
     "data": {
      "text/plain": [
       "array([ 0,  1,  2,  3,  4, 64, 64, 64,  8,  9])"
      ]
     },
     "execution_count": 103,
     "metadata": {},
     "output_type": "execute_result"
    }
   ],
   "source": [
    "arr"
   ]
  },
  {
   "cell_type": "code",
   "execution_count": 104,
   "metadata": {},
   "outputs": [
    {
     "data": {
      "text/plain": [
       "array([ 1,  2,  3,  4, 64])"
      ]
     },
     "execution_count": 104,
     "metadata": {},
     "output_type": "execute_result"
    }
   ],
   "source": [
    "arr[1:6]"
   ]
  },
  {
   "cell_type": "code",
   "execution_count": 105,
   "metadata": {},
   "outputs": [
    {
     "data": {
      "text/plain": [
       "array([[1, 2, 3],\n",
       "       [4, 5, 6],\n",
       "       [7, 8, 9]])"
      ]
     },
     "execution_count": 105,
     "metadata": {},
     "output_type": "execute_result"
    }
   ],
   "source": [
    "arr2d"
   ]
  },
  {
   "cell_type": "code",
   "execution_count": 106,
   "metadata": {},
   "outputs": [
    {
     "data": {
      "text/plain": [
       "array([[1, 2, 3],\n",
       "       [4, 5, 6]])"
      ]
     },
     "execution_count": 106,
     "metadata": {},
     "output_type": "execute_result"
    }
   ],
   "source": [
    "arr2d[:2]"
   ]
  },
  {
   "cell_type": "code",
   "execution_count": 107,
   "metadata": {},
   "outputs": [
    {
     "data": {
      "text/plain": [
       "array([[2, 3],\n",
       "       [5, 6]])"
      ]
     },
     "execution_count": 107,
     "metadata": {},
     "output_type": "execute_result"
    }
   ],
   "source": [
    "arr2d[:2,1:] #这里就是对第一层选取前两大项，对第二层选取第一个元素后的元素.其实就是对于2维的数组，第一次操作的行轴，第二个就是操作列轴"
   ]
  },
  {
   "cell_type": "code",
   "execution_count": 108,
   "metadata": {},
   "outputs": [
    {
     "data": {
      "text/plain": [
       "array([4, 5])"
      ]
     },
     "execution_count": 108,
     "metadata": {},
     "output_type": "execute_result"
    }
   ],
   "source": [
    "arr2d[1,:2]"
   ]
  },
  {
   "cell_type": "code",
   "execution_count": 109,
   "metadata": {},
   "outputs": [
    {
     "data": {
      "text/plain": [
       "array([3, 6])"
      ]
     },
     "execution_count": 109,
     "metadata": {},
     "output_type": "execute_result"
    }
   ],
   "source": [
    "arr2d[:2,2]"
   ]
  },
  {
   "cell_type": "code",
   "execution_count": 110,
   "metadata": {},
   "outputs": [
    {
     "data": {
      "text/plain": [
       "array([2, 5])"
      ]
     },
     "execution_count": 110,
     "metadata": {},
     "output_type": "execute_result"
    }
   ],
   "source": [
    "arr2d[:2,1]"
   ]
  },
  {
   "cell_type": "code",
   "execution_count": 112,
   "metadata": {},
   "outputs": [
    {
     "data": {
      "text/plain": [
       "5"
      ]
     },
     "execution_count": 112,
     "metadata": {},
     "output_type": "execute_result"
    }
   ],
   "source": [
    "arr2d[:2,1][1]"
   ]
  },
  {
   "cell_type": "code",
   "execution_count": 115,
   "metadata": {},
   "outputs": [],
   "source": [
    "arr2d[:2, 1:] = 0"
   ]
  },
  {
   "cell_type": "code",
   "execution_count": 116,
   "metadata": {},
   "outputs": [
    {
     "data": {
      "text/plain": [
       "array([[1, 0, 0],\n",
       "       [4, 0, 0],\n",
       "       [7, 8, 9]])"
      ]
     },
     "execution_count": 116,
     "metadata": {},
     "output_type": "execute_result"
    }
   ],
   "source": [
    "arr2d"
   ]
  },
  {
   "cell_type": "markdown",
   "metadata": {},
   "source": [
    "### 布尔型索引"
   ]
  },
  {
   "cell_type": "code",
   "execution_count": 135,
   "metadata": {},
   "outputs": [],
   "source": [
    "names = np.array(['Bob', 'Joe', 'Will', 'Bob', 'Will',\n",
    "'Joe', 'Joe'])"
   ]
  },
  {
   "cell_type": "code",
   "execution_count": 136,
   "metadata": {},
   "outputs": [],
   "source": [
    "data = np.random.randn(7, 4)"
   ]
  },
  {
   "cell_type": "code",
   "execution_count": 137,
   "metadata": {},
   "outputs": [
    {
     "data": {
      "text/plain": [
       "array(['Bob', 'Joe', 'Will', 'Bob', 'Will', 'Joe', 'Joe'], dtype='<U4')"
      ]
     },
     "execution_count": 137,
     "metadata": {},
     "output_type": "execute_result"
    }
   ],
   "source": [
    "names"
   ]
  },
  {
   "cell_type": "code",
   "execution_count": 138,
   "metadata": {},
   "outputs": [
    {
     "data": {
      "text/plain": [
       "array([[-0.09349236, -0.52427394, -0.58181206, -1.6781145 ],\n",
       "       [ 0.02225119,  1.5365306 , -0.37943752, -1.53721813],\n",
       "       [-1.7445363 ,  0.2971567 , -1.19773643, -0.50817655],\n",
       "       [ 0.65083115, -0.684297  ,  0.57692604,  0.55054286],\n",
       "       [ 0.07303903,  1.14871089,  0.20609789,  0.97066613],\n",
       "       [ 0.10494488,  0.48918592,  0.67507496,  0.86789248],\n",
       "       [-0.43472206,  1.95717088, -0.68371909, -0.88065854]])"
      ]
     },
     "execution_count": 138,
     "metadata": {},
     "output_type": "execute_result"
    }
   ],
   "source": [
    "data"
   ]
  },
  {
   "cell_type": "code",
   "execution_count": 139,
   "metadata": {},
   "outputs": [
    {
     "data": {
      "text/plain": [
       "array([ True, False, False,  True, False, False, False])"
      ]
     },
     "execution_count": 139,
     "metadata": {},
     "output_type": "execute_result"
    }
   ],
   "source": [
    "names == 'Bob'"
   ]
  },
  {
   "cell_type": "code",
   "execution_count": 140,
   "metadata": {},
   "outputs": [
    {
     "data": {
      "text/plain": [
       "array([[-0.09349236, -0.52427394, -0.58181206, -1.6781145 ],\n",
       "       [ 0.65083115, -0.684297  ,  0.57692604,  0.55054286]])"
      ]
     },
     "execution_count": 140,
     "metadata": {},
     "output_type": "execute_result"
    }
   ],
   "source": [
    "data[names == 'Bob'] #这样将数组和人称联系了起来"
   ]
  },
  {
   "cell_type": "code",
   "execution_count": 141,
   "metadata": {},
   "outputs": [
    {
     "data": {
      "text/plain": [
       "array([[-0.58181206, -1.6781145 ],\n",
       "       [ 0.57692604,  0.55054286]])"
      ]
     },
     "execution_count": 141,
     "metadata": {},
     "output_type": "execute_result"
    }
   ],
   "source": [
    "data[names == 'Bob',2:]"
   ]
  },
  {
   "cell_type": "code",
   "execution_count": 142,
   "metadata": {},
   "outputs": [
    {
     "data": {
      "text/plain": [
       "array([-1.6781145 ,  0.55054286])"
      ]
     },
     "execution_count": 142,
     "metadata": {},
     "output_type": "execute_result"
    }
   ],
   "source": [
    "data[names == 'Bob',3]"
   ]
  },
  {
   "cell_type": "code",
   "execution_count": 143,
   "metadata": {},
   "outputs": [
    {
     "data": {
      "text/plain": [
       "array([False,  True,  True, False,  True,  True,  True])"
      ]
     },
     "execution_count": 143,
     "metadata": {},
     "output_type": "execute_result"
    }
   ],
   "source": [
    "names != 'Bob'"
   ]
  },
  {
   "cell_type": "code",
   "execution_count": 144,
   "metadata": {},
   "outputs": [
    {
     "data": {
      "text/plain": [
       "array([[ 0.02225119,  1.5365306 , -0.37943752, -1.53721813],\n",
       "       [-1.7445363 ,  0.2971567 , -1.19773643, -0.50817655],\n",
       "       [ 0.07303903,  1.14871089,  0.20609789,  0.97066613],\n",
       "       [ 0.10494488,  0.48918592,  0.67507496,  0.86789248],\n",
       "       [-0.43472206,  1.95717088, -0.68371909, -0.88065854]])"
      ]
     },
     "execution_count": 144,
     "metadata": {},
     "output_type": "execute_result"
    }
   ],
   "source": [
    "data[~(names == 'Bob')] # ~符号在此处用作反转符号"
   ]
  },
  {
   "cell_type": "code",
   "execution_count": 145,
   "metadata": {},
   "outputs": [],
   "source": [
    "cond = names == 'Bob'"
   ]
  },
  {
   "cell_type": "code",
   "execution_count": 146,
   "metadata": {},
   "outputs": [
    {
     "data": {
      "text/plain": [
       "array([[ 0.02225119,  1.5365306 , -0.37943752, -1.53721813],\n",
       "       [-1.7445363 ,  0.2971567 , -1.19773643, -0.50817655],\n",
       "       [ 0.07303903,  1.14871089,  0.20609789,  0.97066613],\n",
       "       [ 0.10494488,  0.48918592,  0.67507496,  0.86789248],\n",
       "       [-0.43472206,  1.95717088, -0.68371909, -0.88065854]])"
      ]
     },
     "execution_count": 146,
     "metadata": {},
     "output_type": "execute_result"
    }
   ],
   "source": [
    "data[~cond]"
   ]
  },
  {
   "cell_type": "code",
   "execution_count": 147,
   "metadata": {},
   "outputs": [],
   "source": [
    "mask = (names == 'Bob') | (names == 'Will')"
   ]
  },
  {
   "cell_type": "code",
   "execution_count": 148,
   "metadata": {},
   "outputs": [
    {
     "data": {
      "text/plain": [
       "array([ True, False,  True,  True,  True, False, False])"
      ]
     },
     "execution_count": 148,
     "metadata": {},
     "output_type": "execute_result"
    }
   ],
   "source": [
    "mask"
   ]
  },
  {
   "cell_type": "code",
   "execution_count": 149,
   "metadata": {},
   "outputs": [
    {
     "data": {
      "text/plain": [
       "array([[-0.09349236, -0.52427394, -0.58181206, -1.6781145 ],\n",
       "       [-1.7445363 ,  0.2971567 , -1.19773643, -0.50817655],\n",
       "       [ 0.65083115, -0.684297  ,  0.57692604,  0.55054286],\n",
       "       [ 0.07303903,  1.14871089,  0.20609789,  0.97066613]])"
      ]
     },
     "execution_count": 149,
     "metadata": {},
     "output_type": "execute_result"
    }
   ],
   "source": [
    "data[mask]"
   ]
  },
  {
   "cell_type": "code",
   "execution_count": 150,
   "metadata": {},
   "outputs": [],
   "source": [
    "data[data < 0] = 0"
   ]
  },
  {
   "cell_type": "code",
   "execution_count": 151,
   "metadata": {},
   "outputs": [
    {
     "data": {
      "text/plain": [
       "array([[0.        , 0.        , 0.        , 0.        ],\n",
       "       [0.02225119, 1.5365306 , 0.        , 0.        ],\n",
       "       [0.        , 0.2971567 , 0.        , 0.        ],\n",
       "       [0.65083115, 0.        , 0.57692604, 0.55054286],\n",
       "       [0.07303903, 1.14871089, 0.20609789, 0.97066613],\n",
       "       [0.10494488, 0.48918592, 0.67507496, 0.86789248],\n",
       "       [0.        , 1.95717088, 0.        , 0.        ]])"
      ]
     },
     "execution_count": 151,
     "metadata": {},
     "output_type": "execute_result"
    }
   ],
   "source": [
    "data"
   ]
  },
  {
   "cell_type": "code",
   "execution_count": 153,
   "metadata": {},
   "outputs": [],
   "source": [
    "data[names != 'Joe'] = 7"
   ]
  },
  {
   "cell_type": "code",
   "execution_count": 154,
   "metadata": {},
   "outputs": [
    {
     "data": {
      "text/plain": [
       "array([[7.        , 7.        , 7.        , 7.        ],\n",
       "       [0.02225119, 1.5365306 , 0.        , 0.        ],\n",
       "       [7.        , 7.        , 7.        , 7.        ],\n",
       "       [7.        , 7.        , 7.        , 7.        ],\n",
       "       [7.        , 7.        , 7.        , 7.        ],\n",
       "       [0.10494488, 0.48918592, 0.67507496, 0.86789248],\n",
       "       [0.        , 1.95717088, 0.        , 0.        ]])"
      ]
     },
     "execution_count": 154,
     "metadata": {},
     "output_type": "execute_result"
    }
   ],
   "source": [
    "data"
   ]
  },
  {
   "cell_type": "markdown",
   "metadata": {},
   "source": [
    "### 花式索引"
   ]
  },
  {
   "cell_type": "code",
   "execution_count": 155,
   "metadata": {},
   "outputs": [],
   "source": [
    "arr = np.empty((8,4))"
   ]
  },
  {
   "cell_type": "code",
   "execution_count": 156,
   "metadata": {},
   "outputs": [],
   "source": [
    "for i in range(8):\n",
    "    arr[i] = i"
   ]
  },
  {
   "cell_type": "code",
   "execution_count": 157,
   "metadata": {},
   "outputs": [
    {
     "data": {
      "text/plain": [
       "array([[0., 0., 0., 0.],\n",
       "       [1., 1., 1., 1.],\n",
       "       [2., 2., 2., 2.],\n",
       "       [3., 3., 3., 3.],\n",
       "       [4., 4., 4., 4.],\n",
       "       [5., 5., 5., 5.],\n",
       "       [6., 6., 6., 6.],\n",
       "       [7., 7., 7., 7.]])"
      ]
     },
     "execution_count": 157,
     "metadata": {},
     "output_type": "execute_result"
    }
   ],
   "source": [
    "arr"
   ]
  },
  {
   "cell_type": "code",
   "execution_count": 158,
   "metadata": {},
   "outputs": [
    {
     "data": {
      "text/plain": [
       "array([[4., 4., 4., 4.],\n",
       "       [3., 3., 3., 3.],\n",
       "       [0., 0., 0., 0.],\n",
       "       [6., 6., 6., 6.]])"
      ]
     },
     "execution_count": 158,
     "metadata": {},
     "output_type": "execute_result"
    }
   ],
   "source": [
    "arr[[4,3,0,6]]"
   ]
  },
  {
   "cell_type": "code",
   "execution_count": 159,
   "metadata": {},
   "outputs": [
    {
     "data": {
      "text/plain": [
       "array([[5., 5., 5., 5.],\n",
       "       [3., 3., 3., 3.],\n",
       "       [1., 1., 1., 1.]])"
      ]
     },
     "execution_count": 159,
     "metadata": {},
     "output_type": "execute_result"
    }
   ],
   "source": [
    "arr[[-3,-5,-7]]"
   ]
  },
  {
   "cell_type": "code",
   "execution_count": 160,
   "metadata": {},
   "outputs": [],
   "source": [
    "arr = np.arange(32).reshape((8, 4))"
   ]
  },
  {
   "cell_type": "code",
   "execution_count": 161,
   "metadata": {},
   "outputs": [
    {
     "data": {
      "text/plain": [
       "array([[ 0,  1,  2,  3],\n",
       "       [ 4,  5,  6,  7],\n",
       "       [ 8,  9, 10, 11],\n",
       "       [12, 13, 14, 15],\n",
       "       [16, 17, 18, 19],\n",
       "       [20, 21, 22, 23],\n",
       "       [24, 25, 26, 27],\n",
       "       [28, 29, 30, 31]])"
      ]
     },
     "execution_count": 161,
     "metadata": {},
     "output_type": "execute_result"
    }
   ],
   "source": [
    "arr"
   ]
  },
  {
   "cell_type": "code",
   "execution_count": 162,
   "metadata": {},
   "outputs": [
    {
     "data": {
      "text/plain": [
       "array([ 4, 23, 29, 10])"
      ]
     },
     "execution_count": 162,
     "metadata": {},
     "output_type": "execute_result"
    }
   ],
   "source": [
    "arr[[1, 5, 7, 2], [0, 3, 1, 2]] # 这里就是选取的是[1,0],[5,3]...的数，也就是第二行第一列的数，以此类推"
   ]
  },
  {
   "cell_type": "markdown",
   "metadata": {},
   "source": [
    "**花式索引跟切片不一样，它总是将数据复制到新数组中。**"
   ]
  },
  {
   "cell_type": "markdown",
   "metadata": {},
   "source": [
    "### 数组转置和轴对换"
   ]
  },
  {
   "cell_type": "code",
   "execution_count": 163,
   "metadata": {},
   "outputs": [],
   "source": [
    "arr = np.arange(15).reshape((3,5))"
   ]
  },
  {
   "cell_type": "code",
   "execution_count": 164,
   "metadata": {},
   "outputs": [
    {
     "data": {
      "text/plain": [
       "array([[ 0,  1,  2,  3,  4],\n",
       "       [ 5,  6,  7,  8,  9],\n",
       "       [10, 11, 12, 13, 14]])"
      ]
     },
     "execution_count": 164,
     "metadata": {},
     "output_type": "execute_result"
    }
   ],
   "source": [
    "arr"
   ]
  },
  {
   "cell_type": "code",
   "execution_count": 165,
   "metadata": {},
   "outputs": [
    {
     "data": {
      "text/plain": [
       "array([[ 0,  5, 10],\n",
       "       [ 1,  6, 11],\n",
       "       [ 2,  7, 12],\n",
       "       [ 3,  8, 13],\n",
       "       [ 4,  9, 14]])"
      ]
     },
     "execution_count": 165,
     "metadata": {},
     "output_type": "execute_result"
    }
   ],
   "source": [
    "arr.T"
   ]
  },
  {
   "cell_type": "code",
   "execution_count": 166,
   "metadata": {},
   "outputs": [],
   "source": [
    "arr = np.random.randn(6,3)"
   ]
  },
  {
   "cell_type": "code",
   "execution_count": 167,
   "metadata": {},
   "outputs": [
    {
     "data": {
      "text/plain": [
       "array([[ 1.09183987,  0.34156476, -0.80288807],\n",
       "       [-1.34606377,  0.37784842, -0.88482377],\n",
       "       [-0.81886253, -0.23223803, -0.64458284],\n",
       "       [ 0.62957331,  0.56795224, -0.64302544],\n",
       "       [ 1.58403298,  1.11674014,  0.73363402],\n",
       "       [ 0.79176424, -0.03156293, -1.18666711]])"
      ]
     },
     "execution_count": 167,
     "metadata": {},
     "output_type": "execute_result"
    }
   ],
   "source": [
    "arr"
   ]
  },
  {
   "cell_type": "code",
   "execution_count": 168,
   "metadata": {},
   "outputs": [
    {
     "data": {
      "text/plain": [
       "array([[7.20695148, 2.15602736, 0.65993699],\n",
       "       [2.15602736, 1.88404491, 0.03265463],\n",
       "       [0.65993699, 0.03265463, 4.20290884]])"
      ]
     },
     "execution_count": 168,
     "metadata": {},
     "output_type": "execute_result"
    }
   ],
   "source": [
    "np.dot(arr.T,arr)"
   ]
  },
  {
   "cell_type": "code",
   "execution_count": 169,
   "metadata": {},
   "outputs": [],
   "source": [
    "arr = np.arange(16).reshape((2,2,4))"
   ]
  },
  {
   "cell_type": "code",
   "execution_count": 170,
   "metadata": {},
   "outputs": [
    {
     "data": {
      "text/plain": [
       "array([[[ 0,  1,  2,  3],\n",
       "        [ 4,  5,  6,  7]],\n",
       "\n",
       "       [[ 8,  9, 10, 11],\n",
       "        [12, 13, 14, 15]]])"
      ]
     },
     "execution_count": 170,
     "metadata": {},
     "output_type": "execute_result"
    }
   ],
   "source": [
    "arr"
   ]
  },
  {
   "cell_type": "code",
   "execution_count": 176,
   "metadata": {},
   "outputs": [
    {
     "data": {
      "text/plain": [
       "3"
      ]
     },
     "execution_count": 176,
     "metadata": {},
     "output_type": "execute_result"
    }
   ],
   "source": [
    "arr.ndim"
   ]
  },
  {
   "cell_type": "code",
   "execution_count": 171,
   "metadata": {},
   "outputs": [
    {
     "data": {
      "text/plain": [
       "array([[[ 0,  1,  2,  3],\n",
       "        [ 8,  9, 10, 11]],\n",
       "\n",
       "       [[ 4,  5,  6,  7],\n",
       "        [12, 13, 14, 15]]])"
      ]
     },
     "execution_count": 171,
     "metadata": {},
     "output_type": "execute_result"
    }
   ],
   "source": [
    "arr.transpose((1,0,2))"
   ]
  },
  {
   "cell_type": "code",
   "execution_count": 175,
   "metadata": {},
   "outputs": [
    {
     "data": {
      "text/plain": [
       "array([[[ 0,  4],\n",
       "        [ 8, 12]],\n",
       "\n",
       "       [[ 1,  5],\n",
       "        [ 9, 13]],\n",
       "\n",
       "       [[ 2,  6],\n",
       "        [10, 14]],\n",
       "\n",
       "       [[ 3,  7],\n",
       "        [11, 15]]])"
      ]
     },
     "execution_count": 175,
     "metadata": {},
     "output_type": "execute_result"
    }
   ],
   "source": [
    "arr.transpose((2,0,1))"
   ]
  },
  {
   "cell_type": "code",
   "execution_count": 172,
   "metadata": {},
   "outputs": [
    {
     "data": {
      "text/plain": [
       "array([[[ 0,  1,  2,  3],\n",
       "        [ 4,  5,  6,  7]],\n",
       "\n",
       "       [[ 8,  9, 10, 11],\n",
       "        [12, 13, 14, 15]]])"
      ]
     },
     "execution_count": 172,
     "metadata": {},
     "output_type": "execute_result"
    }
   ],
   "source": [
    "arr"
   ]
  },
  {
   "cell_type": "code",
   "execution_count": 173,
   "metadata": {},
   "outputs": [
    {
     "data": {
      "text/plain": [
       "array([[[ 0,  4],\n",
       "        [ 1,  5],\n",
       "        [ 2,  6],\n",
       "        [ 3,  7]],\n",
       "\n",
       "       [[ 8, 12],\n",
       "        [ 9, 13],\n",
       "        [10, 14],\n",
       "        [11, 15]]])"
      ]
     },
     "execution_count": 173,
     "metadata": {},
     "output_type": "execute_result"
    }
   ],
   "source": [
    "arr.swapaxes(1,2)"
   ]
  },
  {
   "cell_type": "code",
   "execution_count": 177,
   "metadata": {},
   "outputs": [
    {
     "data": {
      "text/plain": [
       "array([[[ 0,  1,  2,  3],\n",
       "        [ 8,  9, 10, 11]],\n",
       "\n",
       "       [[ 4,  5,  6,  7],\n",
       "        [12, 13, 14, 15]]])"
      ]
     },
     "execution_count": 177,
     "metadata": {},
     "output_type": "execute_result"
    }
   ],
   "source": [
    "arr.swapaxes(0,1)"
   ]
  },
  {
   "cell_type": "code",
   "execution_count": 178,
   "metadata": {},
   "outputs": [
    {
     "data": {
      "text/plain": [
       "array([[[ 0,  8],\n",
       "        [ 4, 12]],\n",
       "\n",
       "       [[ 1,  9],\n",
       "        [ 5, 13]],\n",
       "\n",
       "       [[ 2, 10],\n",
       "        [ 6, 14]],\n",
       "\n",
       "       [[ 3, 11],\n",
       "        [ 7, 15]]])"
      ]
     },
     "execution_count": 178,
     "metadata": {},
     "output_type": "execute_result"
    }
   ],
   "source": [
    "arr.swapaxes(0,2)"
   ]
  },
  {
   "cell_type": "code",
   "execution_count": 179,
   "metadata": {},
   "outputs": [
    {
     "data": {
      "text/plain": [
       "array([[[ 0,  4],\n",
       "        [ 1,  5],\n",
       "        [ 2,  6],\n",
       "        [ 3,  7]],\n",
       "\n",
       "       [[ 8, 12],\n",
       "        [ 9, 13],\n",
       "        [10, 14],\n",
       "        [11, 15]]])"
      ]
     },
     "execution_count": 179,
     "metadata": {},
     "output_type": "execute_result"
    }
   ],
   "source": [
    "arr.swapaxes(1,2)"
   ]
  },
  {
   "cell_type": "code",
   "execution_count": 180,
   "metadata": {},
   "outputs": [],
   "source": [
    "arr = np.arange(10)"
   ]
  },
  {
   "cell_type": "code",
   "execution_count": 181,
   "metadata": {},
   "outputs": [
    {
     "data": {
      "text/plain": [
       "array([0, 1, 2, 3, 4, 5, 6, 7, 8, 9])"
      ]
     },
     "execution_count": 181,
     "metadata": {},
     "output_type": "execute_result"
    }
   ],
   "source": [
    "arr"
   ]
  },
  {
   "cell_type": "code",
   "execution_count": 182,
   "metadata": {},
   "outputs": [
    {
     "data": {
      "text/plain": [
       "array([0.        , 1.        , 1.41421356, 1.73205081, 2.        ,\n",
       "       2.23606798, 2.44948974, 2.64575131, 2.82842712, 3.        ])"
      ]
     },
     "execution_count": 182,
     "metadata": {},
     "output_type": "execute_result"
    }
   ],
   "source": [
    "np.sqrt(arr)"
   ]
  },
  {
   "cell_type": "code",
   "execution_count": 183,
   "metadata": {},
   "outputs": [
    {
     "data": {
      "text/plain": [
       "array([1.00000000e+00, 2.71828183e+00, 7.38905610e+00, 2.00855369e+01,\n",
       "       5.45981500e+01, 1.48413159e+02, 4.03428793e+02, 1.09663316e+03,\n",
       "       2.98095799e+03, 8.10308393e+03])"
      ]
     },
     "execution_count": 183,
     "metadata": {},
     "output_type": "execute_result"
    }
   ],
   "source": [
    "np.exp(arr)"
   ]
  },
  {
   "cell_type": "code",
   "execution_count": 184,
   "metadata": {},
   "outputs": [],
   "source": [
    "x = np.random.randn(8)"
   ]
  },
  {
   "cell_type": "code",
   "execution_count": 185,
   "metadata": {},
   "outputs": [],
   "source": [
    "y = np.random.randn(8)"
   ]
  },
  {
   "cell_type": "code",
   "execution_count": 186,
   "metadata": {},
   "outputs": [
    {
     "data": {
      "text/plain": [
       "array([ 0.42287524,  0.24342861, -1.78521893, -0.16708449,  0.14718105,\n",
       "        1.1942908 ,  0.13626477,  0.42741817])"
      ]
     },
     "execution_count": 186,
     "metadata": {},
     "output_type": "execute_result"
    }
   ],
   "source": [
    "x"
   ]
  },
  {
   "cell_type": "code",
   "execution_count": 187,
   "metadata": {},
   "outputs": [
    {
     "data": {
      "text/plain": [
       "array([-0.1427192 , -0.11570821,  1.89468872, -1.48731423,  0.39650216,\n",
       "       -0.58449708, -1.74903802,  0.00997204])"
      ]
     },
     "execution_count": 187,
     "metadata": {},
     "output_type": "execute_result"
    }
   ],
   "source": [
    "y"
   ]
  },
  {
   "cell_type": "code",
   "execution_count": 188,
   "metadata": {},
   "outputs": [
    {
     "data": {
      "text/plain": [
       "array([ 0.42287524,  0.24342861,  1.89468872, -0.16708449,  0.39650216,\n",
       "        1.1942908 ,  0.13626477,  0.42741817])"
      ]
     },
     "execution_count": 188,
     "metadata": {},
     "output_type": "execute_result"
    }
   ],
   "source": [
    "np.maximum(x,y)"
   ]
  },
  {
   "cell_type": "code",
   "execution_count": 189,
   "metadata": {},
   "outputs": [],
   "source": [
    "arr = np.random.randn(7) * 5 "
   ]
  },
  {
   "cell_type": "code",
   "execution_count": 190,
   "metadata": {},
   "outputs": [
    {
     "data": {
      "text/plain": [
       "array([ 1.31918492,  0.95520541, -0.31715137,  3.39943997,  2.75059575,\n",
       "        4.2152183 ,  5.71130076])"
      ]
     },
     "execution_count": 190,
     "metadata": {},
     "output_type": "execute_result"
    }
   ],
   "source": [
    "arr"
   ]
  },
  {
   "cell_type": "code",
   "execution_count": 191,
   "metadata": {},
   "outputs": [],
   "source": [
    "remainder, whole_part = np.modf(arr)"
   ]
  },
  {
   "cell_type": "code",
   "execution_count": 192,
   "metadata": {},
   "outputs": [
    {
     "data": {
      "text/plain": [
       "array([ 0.31918492,  0.95520541, -0.31715137,  0.39943997,  0.75059575,\n",
       "        0.2152183 ,  0.71130076])"
      ]
     },
     "execution_count": 192,
     "metadata": {},
     "output_type": "execute_result"
    }
   ],
   "source": [
    "remainder"
   ]
  },
  {
   "cell_type": "code",
   "execution_count": 193,
   "metadata": {},
   "outputs": [
    {
     "data": {
      "text/plain": [
       "array([ 1.,  0., -0.,  3.,  2.,  4.,  5.])"
      ]
     },
     "execution_count": 193,
     "metadata": {},
     "output_type": "execute_result"
    }
   ],
   "source": [
    "whole_part"
   ]
  },
  {
   "cell_type": "code",
   "execution_count": 194,
   "metadata": {},
   "outputs": [
    {
     "name": "stderr",
     "output_type": "stream",
     "text": [
      "/anaconda3/lib/python3.6/site-packages/ipykernel_launcher.py:1: RuntimeWarning: invalid value encountered in sqrt\n",
      "  \"\"\"Entry point for launching an IPython kernel.\n"
     ]
    },
    {
     "data": {
      "text/plain": [
       "array([1.14855776, 0.9773461 ,        nan, 1.84375703, 1.65849201,\n",
       "       2.05309968, 2.38983279])"
      ]
     },
     "execution_count": 194,
     "metadata": {},
     "output_type": "execute_result"
    }
   ],
   "source": [
    "np.sqrt(arr)"
   ]
  },
  {
   "cell_type": "code",
   "execution_count": 195,
   "metadata": {},
   "outputs": [],
   "source": [
    "points = np.arange(-5, 5, 0.01)"
   ]
  },
  {
   "cell_type": "code",
   "execution_count": 198,
   "metadata": {
    "collapsed": true
   },
   "outputs": [
    {
     "data": {
      "text/plain": [
       "array([-5.0000000e+00, -4.9900000e+00, -4.9800000e+00, -4.9700000e+00,\n",
       "       -4.9600000e+00, -4.9500000e+00, -4.9400000e+00, -4.9300000e+00,\n",
       "       -4.9200000e+00, -4.9100000e+00, -4.9000000e+00, -4.8900000e+00,\n",
       "       -4.8800000e+00, -4.8700000e+00, -4.8600000e+00, -4.8500000e+00,\n",
       "       -4.8400000e+00, -4.8300000e+00, -4.8200000e+00, -4.8100000e+00,\n",
       "       -4.8000000e+00, -4.7900000e+00, -4.7800000e+00, -4.7700000e+00,\n",
       "       -4.7600000e+00, -4.7500000e+00, -4.7400000e+00, -4.7300000e+00,\n",
       "       -4.7200000e+00, -4.7100000e+00, -4.7000000e+00, -4.6900000e+00,\n",
       "       -4.6800000e+00, -4.6700000e+00, -4.6600000e+00, -4.6500000e+00,\n",
       "       -4.6400000e+00, -4.6300000e+00, -4.6200000e+00, -4.6100000e+00,\n",
       "       -4.6000000e+00, -4.5900000e+00, -4.5800000e+00, -4.5700000e+00,\n",
       "       -4.5600000e+00, -4.5500000e+00, -4.5400000e+00, -4.5300000e+00,\n",
       "       -4.5200000e+00, -4.5100000e+00, -4.5000000e+00, -4.4900000e+00,\n",
       "       -4.4800000e+00, -4.4700000e+00, -4.4600000e+00, -4.4500000e+00,\n",
       "       -4.4400000e+00, -4.4300000e+00, -4.4200000e+00, -4.4100000e+00,\n",
       "       -4.4000000e+00, -4.3900000e+00, -4.3800000e+00, -4.3700000e+00,\n",
       "       -4.3600000e+00, -4.3500000e+00, -4.3400000e+00, -4.3300000e+00,\n",
       "       -4.3200000e+00, -4.3100000e+00, -4.3000000e+00, -4.2900000e+00,\n",
       "       -4.2800000e+00, -4.2700000e+00, -4.2600000e+00, -4.2500000e+00,\n",
       "       -4.2400000e+00, -4.2300000e+00, -4.2200000e+00, -4.2100000e+00,\n",
       "       -4.2000000e+00, -4.1900000e+00, -4.1800000e+00, -4.1700000e+00,\n",
       "       -4.1600000e+00, -4.1500000e+00, -4.1400000e+00, -4.1300000e+00,\n",
       "       -4.1200000e+00, -4.1100000e+00, -4.1000000e+00, -4.0900000e+00,\n",
       "       -4.0800000e+00, -4.0700000e+00, -4.0600000e+00, -4.0500000e+00,\n",
       "       -4.0400000e+00, -4.0300000e+00, -4.0200000e+00, -4.0100000e+00,\n",
       "       -4.0000000e+00, -3.9900000e+00, -3.9800000e+00, -3.9700000e+00,\n",
       "       -3.9600000e+00, -3.9500000e+00, -3.9400000e+00, -3.9300000e+00,\n",
       "       -3.9200000e+00, -3.9100000e+00, -3.9000000e+00, -3.8900000e+00,\n",
       "       -3.8800000e+00, -3.8700000e+00, -3.8600000e+00, -3.8500000e+00,\n",
       "       -3.8400000e+00, -3.8300000e+00, -3.8200000e+00, -3.8100000e+00,\n",
       "       -3.8000000e+00, -3.7900000e+00, -3.7800000e+00, -3.7700000e+00,\n",
       "       -3.7600000e+00, -3.7500000e+00, -3.7400000e+00, -3.7300000e+00,\n",
       "       -3.7200000e+00, -3.7100000e+00, -3.7000000e+00, -3.6900000e+00,\n",
       "       -3.6800000e+00, -3.6700000e+00, -3.6600000e+00, -3.6500000e+00,\n",
       "       -3.6400000e+00, -3.6300000e+00, -3.6200000e+00, -3.6100000e+00,\n",
       "       -3.6000000e+00, -3.5900000e+00, -3.5800000e+00, -3.5700000e+00,\n",
       "       -3.5600000e+00, -3.5500000e+00, -3.5400000e+00, -3.5300000e+00,\n",
       "       -3.5200000e+00, -3.5100000e+00, -3.5000000e+00, -3.4900000e+00,\n",
       "       -3.4800000e+00, -3.4700000e+00, -3.4600000e+00, -3.4500000e+00,\n",
       "       -3.4400000e+00, -3.4300000e+00, -3.4200000e+00, -3.4100000e+00,\n",
       "       -3.4000000e+00, -3.3900000e+00, -3.3800000e+00, -3.3700000e+00,\n",
       "       -3.3600000e+00, -3.3500000e+00, -3.3400000e+00, -3.3300000e+00,\n",
       "       -3.3200000e+00, -3.3100000e+00, -3.3000000e+00, -3.2900000e+00,\n",
       "       -3.2800000e+00, -3.2700000e+00, -3.2600000e+00, -3.2500000e+00,\n",
       "       -3.2400000e+00, -3.2300000e+00, -3.2200000e+00, -3.2100000e+00,\n",
       "       -3.2000000e+00, -3.1900000e+00, -3.1800000e+00, -3.1700000e+00,\n",
       "       -3.1600000e+00, -3.1500000e+00, -3.1400000e+00, -3.1300000e+00,\n",
       "       -3.1200000e+00, -3.1100000e+00, -3.1000000e+00, -3.0900000e+00,\n",
       "       -3.0800000e+00, -3.0700000e+00, -3.0600000e+00, -3.0500000e+00,\n",
       "       -3.0400000e+00, -3.0300000e+00, -3.0200000e+00, -3.0100000e+00,\n",
       "       -3.0000000e+00, -2.9900000e+00, -2.9800000e+00, -2.9700000e+00,\n",
       "       -2.9600000e+00, -2.9500000e+00, -2.9400000e+00, -2.9300000e+00,\n",
       "       -2.9200000e+00, -2.9100000e+00, -2.9000000e+00, -2.8900000e+00,\n",
       "       -2.8800000e+00, -2.8700000e+00, -2.8600000e+00, -2.8500000e+00,\n",
       "       -2.8400000e+00, -2.8300000e+00, -2.8200000e+00, -2.8100000e+00,\n",
       "       -2.8000000e+00, -2.7900000e+00, -2.7800000e+00, -2.7700000e+00,\n",
       "       -2.7600000e+00, -2.7500000e+00, -2.7400000e+00, -2.7300000e+00,\n",
       "       -2.7200000e+00, -2.7100000e+00, -2.7000000e+00, -2.6900000e+00,\n",
       "       -2.6800000e+00, -2.6700000e+00, -2.6600000e+00, -2.6500000e+00,\n",
       "       -2.6400000e+00, -2.6300000e+00, -2.6200000e+00, -2.6100000e+00,\n",
       "       -2.6000000e+00, -2.5900000e+00, -2.5800000e+00, -2.5700000e+00,\n",
       "       -2.5600000e+00, -2.5500000e+00, -2.5400000e+00, -2.5300000e+00,\n",
       "       -2.5200000e+00, -2.5100000e+00, -2.5000000e+00, -2.4900000e+00,\n",
       "       -2.4800000e+00, -2.4700000e+00, -2.4600000e+00, -2.4500000e+00,\n",
       "       -2.4400000e+00, -2.4300000e+00, -2.4200000e+00, -2.4100000e+00,\n",
       "       -2.4000000e+00, -2.3900000e+00, -2.3800000e+00, -2.3700000e+00,\n",
       "       -2.3600000e+00, -2.3500000e+00, -2.3400000e+00, -2.3300000e+00,\n",
       "       -2.3200000e+00, -2.3100000e+00, -2.3000000e+00, -2.2900000e+00,\n",
       "       -2.2800000e+00, -2.2700000e+00, -2.2600000e+00, -2.2500000e+00,\n",
       "       -2.2400000e+00, -2.2300000e+00, -2.2200000e+00, -2.2100000e+00,\n",
       "       -2.2000000e+00, -2.1900000e+00, -2.1800000e+00, -2.1700000e+00,\n",
       "       -2.1600000e+00, -2.1500000e+00, -2.1400000e+00, -2.1300000e+00,\n",
       "       -2.1200000e+00, -2.1100000e+00, -2.1000000e+00, -2.0900000e+00,\n",
       "       -2.0800000e+00, -2.0700000e+00, -2.0600000e+00, -2.0500000e+00,\n",
       "       -2.0400000e+00, -2.0300000e+00, -2.0200000e+00, -2.0100000e+00,\n",
       "       -2.0000000e+00, -1.9900000e+00, -1.9800000e+00, -1.9700000e+00,\n",
       "       -1.9600000e+00, -1.9500000e+00, -1.9400000e+00, -1.9300000e+00,\n",
       "       -1.9200000e+00, -1.9100000e+00, -1.9000000e+00, -1.8900000e+00,\n",
       "       -1.8800000e+00, -1.8700000e+00, -1.8600000e+00, -1.8500000e+00,\n",
       "       -1.8400000e+00, -1.8300000e+00, -1.8200000e+00, -1.8100000e+00,\n",
       "       -1.8000000e+00, -1.7900000e+00, -1.7800000e+00, -1.7700000e+00,\n",
       "       -1.7600000e+00, -1.7500000e+00, -1.7400000e+00, -1.7300000e+00,\n",
       "       -1.7200000e+00, -1.7100000e+00, -1.7000000e+00, -1.6900000e+00,\n",
       "       -1.6800000e+00, -1.6700000e+00, -1.6600000e+00, -1.6500000e+00,\n",
       "       -1.6400000e+00, -1.6300000e+00, -1.6200000e+00, -1.6100000e+00,\n",
       "       -1.6000000e+00, -1.5900000e+00, -1.5800000e+00, -1.5700000e+00,\n",
       "       -1.5600000e+00, -1.5500000e+00, -1.5400000e+00, -1.5300000e+00,\n",
       "       -1.5200000e+00, -1.5100000e+00, -1.5000000e+00, -1.4900000e+00,\n",
       "       -1.4800000e+00, -1.4700000e+00, -1.4600000e+00, -1.4500000e+00,\n",
       "       -1.4400000e+00, -1.4300000e+00, -1.4200000e+00, -1.4100000e+00,\n",
       "       -1.4000000e+00, -1.3900000e+00, -1.3800000e+00, -1.3700000e+00,\n",
       "       -1.3600000e+00, -1.3500000e+00, -1.3400000e+00, -1.3300000e+00,\n",
       "       -1.3200000e+00, -1.3100000e+00, -1.3000000e+00, -1.2900000e+00,\n",
       "       -1.2800000e+00, -1.2700000e+00, -1.2600000e+00, -1.2500000e+00,\n",
       "       -1.2400000e+00, -1.2300000e+00, -1.2200000e+00, -1.2100000e+00,\n",
       "       -1.2000000e+00, -1.1900000e+00, -1.1800000e+00, -1.1700000e+00,\n",
       "       -1.1600000e+00, -1.1500000e+00, -1.1400000e+00, -1.1300000e+00,\n",
       "       -1.1200000e+00, -1.1100000e+00, -1.1000000e+00, -1.0900000e+00,\n",
       "       -1.0800000e+00, -1.0700000e+00, -1.0600000e+00, -1.0500000e+00,\n",
       "       -1.0400000e+00, -1.0300000e+00, -1.0200000e+00, -1.0100000e+00,\n",
       "       -1.0000000e+00, -9.9000000e-01, -9.8000000e-01, -9.7000000e-01,\n",
       "       -9.6000000e-01, -9.5000000e-01, -9.4000000e-01, -9.3000000e-01,\n",
       "       -9.2000000e-01, -9.1000000e-01, -9.0000000e-01, -8.9000000e-01,\n",
       "       -8.8000000e-01, -8.7000000e-01, -8.6000000e-01, -8.5000000e-01,\n",
       "       -8.4000000e-01, -8.3000000e-01, -8.2000000e-01, -8.1000000e-01,\n",
       "       -8.0000000e-01, -7.9000000e-01, -7.8000000e-01, -7.7000000e-01,\n",
       "       -7.6000000e-01, -7.5000000e-01, -7.4000000e-01, -7.3000000e-01,\n",
       "       -7.2000000e-01, -7.1000000e-01, -7.0000000e-01, -6.9000000e-01,\n",
       "       -6.8000000e-01, -6.7000000e-01, -6.6000000e-01, -6.5000000e-01,\n",
       "       -6.4000000e-01, -6.3000000e-01, -6.2000000e-01, -6.1000000e-01,\n",
       "       -6.0000000e-01, -5.9000000e-01, -5.8000000e-01, -5.7000000e-01,\n",
       "       -5.6000000e-01, -5.5000000e-01, -5.4000000e-01, -5.3000000e-01,\n",
       "       -5.2000000e-01, -5.1000000e-01, -5.0000000e-01, -4.9000000e-01,\n",
       "       -4.8000000e-01, -4.7000000e-01, -4.6000000e-01, -4.5000000e-01,\n",
       "       -4.4000000e-01, -4.3000000e-01, -4.2000000e-01, -4.1000000e-01,\n",
       "       -4.0000000e-01, -3.9000000e-01, -3.8000000e-01, -3.7000000e-01,\n",
       "       -3.6000000e-01, -3.5000000e-01, -3.4000000e-01, -3.3000000e-01,\n",
       "       -3.2000000e-01, -3.1000000e-01, -3.0000000e-01, -2.9000000e-01,\n",
       "       -2.8000000e-01, -2.7000000e-01, -2.6000000e-01, -2.5000000e-01,\n",
       "       -2.4000000e-01, -2.3000000e-01, -2.2000000e-01, -2.1000000e-01,\n",
       "       -2.0000000e-01, -1.9000000e-01, -1.8000000e-01, -1.7000000e-01,\n",
       "       -1.6000000e-01, -1.5000000e-01, -1.4000000e-01, -1.3000000e-01,\n",
       "       -1.2000000e-01, -1.1000000e-01, -1.0000000e-01, -9.0000000e-02,\n",
       "       -8.0000000e-02, -7.0000000e-02, -6.0000000e-02, -5.0000000e-02,\n",
       "       -4.0000000e-02, -3.0000000e-02, -2.0000000e-02, -1.0000000e-02,\n",
       "       -1.0658141e-13,  1.0000000e-02,  2.0000000e-02,  3.0000000e-02,\n",
       "        4.0000000e-02,  5.0000000e-02,  6.0000000e-02,  7.0000000e-02,\n",
       "        8.0000000e-02,  9.0000000e-02,  1.0000000e-01,  1.1000000e-01,\n",
       "        1.2000000e-01,  1.3000000e-01,  1.4000000e-01,  1.5000000e-01,\n",
       "        1.6000000e-01,  1.7000000e-01,  1.8000000e-01,  1.9000000e-01,\n",
       "        2.0000000e-01,  2.1000000e-01,  2.2000000e-01,  2.3000000e-01,\n",
       "        2.4000000e-01,  2.5000000e-01,  2.6000000e-01,  2.7000000e-01,\n",
       "        2.8000000e-01,  2.9000000e-01,  3.0000000e-01,  3.1000000e-01,\n",
       "        3.2000000e-01,  3.3000000e-01,  3.4000000e-01,  3.5000000e-01,\n",
       "        3.6000000e-01,  3.7000000e-01,  3.8000000e-01,  3.9000000e-01,\n",
       "        4.0000000e-01,  4.1000000e-01,  4.2000000e-01,  4.3000000e-01,\n",
       "        4.4000000e-01,  4.5000000e-01,  4.6000000e-01,  4.7000000e-01,\n",
       "        4.8000000e-01,  4.9000000e-01,  5.0000000e-01,  5.1000000e-01,\n",
       "        5.2000000e-01,  5.3000000e-01,  5.4000000e-01,  5.5000000e-01,\n",
       "        5.6000000e-01,  5.7000000e-01,  5.8000000e-01,  5.9000000e-01,\n",
       "        6.0000000e-01,  6.1000000e-01,  6.2000000e-01,  6.3000000e-01,\n",
       "        6.4000000e-01,  6.5000000e-01,  6.6000000e-01,  6.7000000e-01,\n",
       "        6.8000000e-01,  6.9000000e-01,  7.0000000e-01,  7.1000000e-01,\n",
       "        7.2000000e-01,  7.3000000e-01,  7.4000000e-01,  7.5000000e-01,\n",
       "        7.6000000e-01,  7.7000000e-01,  7.8000000e-01,  7.9000000e-01,\n",
       "        8.0000000e-01,  8.1000000e-01,  8.2000000e-01,  8.3000000e-01,\n",
       "        8.4000000e-01,  8.5000000e-01,  8.6000000e-01,  8.7000000e-01,\n",
       "        8.8000000e-01,  8.9000000e-01,  9.0000000e-01,  9.1000000e-01,\n",
       "        9.2000000e-01,  9.3000000e-01,  9.4000000e-01,  9.5000000e-01,\n",
       "        9.6000000e-01,  9.7000000e-01,  9.8000000e-01,  9.9000000e-01,\n",
       "        1.0000000e+00,  1.0100000e+00,  1.0200000e+00,  1.0300000e+00,\n",
       "        1.0400000e+00,  1.0500000e+00,  1.0600000e+00,  1.0700000e+00,\n",
       "        1.0800000e+00,  1.0900000e+00,  1.1000000e+00,  1.1100000e+00,\n",
       "        1.1200000e+00,  1.1300000e+00,  1.1400000e+00,  1.1500000e+00,\n",
       "        1.1600000e+00,  1.1700000e+00,  1.1800000e+00,  1.1900000e+00,\n",
       "        1.2000000e+00,  1.2100000e+00,  1.2200000e+00,  1.2300000e+00,\n",
       "        1.2400000e+00,  1.2500000e+00,  1.2600000e+00,  1.2700000e+00,\n",
       "        1.2800000e+00,  1.2900000e+00,  1.3000000e+00,  1.3100000e+00,\n",
       "        1.3200000e+00,  1.3300000e+00,  1.3400000e+00,  1.3500000e+00,\n",
       "        1.3600000e+00,  1.3700000e+00,  1.3800000e+00,  1.3900000e+00,\n",
       "        1.4000000e+00,  1.4100000e+00,  1.4200000e+00,  1.4300000e+00,\n",
       "        1.4400000e+00,  1.4500000e+00,  1.4600000e+00,  1.4700000e+00,\n",
       "        1.4800000e+00,  1.4900000e+00,  1.5000000e+00,  1.5100000e+00,\n",
       "        1.5200000e+00,  1.5300000e+00,  1.5400000e+00,  1.5500000e+00,\n",
       "        1.5600000e+00,  1.5700000e+00,  1.5800000e+00,  1.5900000e+00,\n",
       "        1.6000000e+00,  1.6100000e+00,  1.6200000e+00,  1.6300000e+00,\n",
       "        1.6400000e+00,  1.6500000e+00,  1.6600000e+00,  1.6700000e+00,\n",
       "        1.6800000e+00,  1.6900000e+00,  1.7000000e+00,  1.7100000e+00,\n",
       "        1.7200000e+00,  1.7300000e+00,  1.7400000e+00,  1.7500000e+00,\n",
       "        1.7600000e+00,  1.7700000e+00,  1.7800000e+00,  1.7900000e+00,\n",
       "        1.8000000e+00,  1.8100000e+00,  1.8200000e+00,  1.8300000e+00,\n",
       "        1.8400000e+00,  1.8500000e+00,  1.8600000e+00,  1.8700000e+00,\n",
       "        1.8800000e+00,  1.8900000e+00,  1.9000000e+00,  1.9100000e+00,\n",
       "        1.9200000e+00,  1.9300000e+00,  1.9400000e+00,  1.9500000e+00,\n",
       "        1.9600000e+00,  1.9700000e+00,  1.9800000e+00,  1.9900000e+00,\n",
       "        2.0000000e+00,  2.0100000e+00,  2.0200000e+00,  2.0300000e+00,\n",
       "        2.0400000e+00,  2.0500000e+00,  2.0600000e+00,  2.0700000e+00,\n",
       "        2.0800000e+00,  2.0900000e+00,  2.1000000e+00,  2.1100000e+00,\n",
       "        2.1200000e+00,  2.1300000e+00,  2.1400000e+00,  2.1500000e+00,\n",
       "        2.1600000e+00,  2.1700000e+00,  2.1800000e+00,  2.1900000e+00,\n",
       "        2.2000000e+00,  2.2100000e+00,  2.2200000e+00,  2.2300000e+00,\n",
       "        2.2400000e+00,  2.2500000e+00,  2.2600000e+00,  2.2700000e+00,\n",
       "        2.2800000e+00,  2.2900000e+00,  2.3000000e+00,  2.3100000e+00,\n",
       "        2.3200000e+00,  2.3300000e+00,  2.3400000e+00,  2.3500000e+00,\n",
       "        2.3600000e+00,  2.3700000e+00,  2.3800000e+00,  2.3900000e+00,\n",
       "        2.4000000e+00,  2.4100000e+00,  2.4200000e+00,  2.4300000e+00,\n",
       "        2.4400000e+00,  2.4500000e+00,  2.4600000e+00,  2.4700000e+00,\n",
       "        2.4800000e+00,  2.4900000e+00,  2.5000000e+00,  2.5100000e+00,\n",
       "        2.5200000e+00,  2.5300000e+00,  2.5400000e+00,  2.5500000e+00,\n",
       "        2.5600000e+00,  2.5700000e+00,  2.5800000e+00,  2.5900000e+00,\n",
       "        2.6000000e+00,  2.6100000e+00,  2.6200000e+00,  2.6300000e+00,\n",
       "        2.6400000e+00,  2.6500000e+00,  2.6600000e+00,  2.6700000e+00,\n",
       "        2.6800000e+00,  2.6900000e+00,  2.7000000e+00,  2.7100000e+00,\n",
       "        2.7200000e+00,  2.7300000e+00,  2.7400000e+00,  2.7500000e+00,\n",
       "        2.7600000e+00,  2.7700000e+00,  2.7800000e+00,  2.7900000e+00,\n",
       "        2.8000000e+00,  2.8100000e+00,  2.8200000e+00,  2.8300000e+00,\n",
       "        2.8400000e+00,  2.8500000e+00,  2.8600000e+00,  2.8700000e+00,\n",
       "        2.8800000e+00,  2.8900000e+00,  2.9000000e+00,  2.9100000e+00,\n",
       "        2.9200000e+00,  2.9300000e+00,  2.9400000e+00,  2.9500000e+00,\n",
       "        2.9600000e+00,  2.9700000e+00,  2.9800000e+00,  2.9900000e+00,\n",
       "        3.0000000e+00,  3.0100000e+00,  3.0200000e+00,  3.0300000e+00,\n",
       "        3.0400000e+00,  3.0500000e+00,  3.0600000e+00,  3.0700000e+00,\n",
       "        3.0800000e+00,  3.0900000e+00,  3.1000000e+00,  3.1100000e+00,\n",
       "        3.1200000e+00,  3.1300000e+00,  3.1400000e+00,  3.1500000e+00,\n",
       "        3.1600000e+00,  3.1700000e+00,  3.1800000e+00,  3.1900000e+00,\n",
       "        3.2000000e+00,  3.2100000e+00,  3.2200000e+00,  3.2300000e+00,\n",
       "        3.2400000e+00,  3.2500000e+00,  3.2600000e+00,  3.2700000e+00,\n",
       "        3.2800000e+00,  3.2900000e+00,  3.3000000e+00,  3.3100000e+00,\n",
       "        3.3200000e+00,  3.3300000e+00,  3.3400000e+00,  3.3500000e+00,\n",
       "        3.3600000e+00,  3.3700000e+00,  3.3800000e+00,  3.3900000e+00,\n",
       "        3.4000000e+00,  3.4100000e+00,  3.4200000e+00,  3.4300000e+00,\n",
       "        3.4400000e+00,  3.4500000e+00,  3.4600000e+00,  3.4700000e+00,\n",
       "        3.4800000e+00,  3.4900000e+00,  3.5000000e+00,  3.5100000e+00,\n",
       "        3.5200000e+00,  3.5300000e+00,  3.5400000e+00,  3.5500000e+00,\n",
       "        3.5600000e+00,  3.5700000e+00,  3.5800000e+00,  3.5900000e+00,\n",
       "        3.6000000e+00,  3.6100000e+00,  3.6200000e+00,  3.6300000e+00,\n",
       "        3.6400000e+00,  3.6500000e+00,  3.6600000e+00,  3.6700000e+00,\n",
       "        3.6800000e+00,  3.6900000e+00,  3.7000000e+00,  3.7100000e+00,\n",
       "        3.7200000e+00,  3.7300000e+00,  3.7400000e+00,  3.7500000e+00,\n",
       "        3.7600000e+00,  3.7700000e+00,  3.7800000e+00,  3.7900000e+00,\n",
       "        3.8000000e+00,  3.8100000e+00,  3.8200000e+00,  3.8300000e+00,\n",
       "        3.8400000e+00,  3.8500000e+00,  3.8600000e+00,  3.8700000e+00,\n",
       "        3.8800000e+00,  3.8900000e+00,  3.9000000e+00,  3.9100000e+00,\n",
       "        3.9200000e+00,  3.9300000e+00,  3.9400000e+00,  3.9500000e+00,\n",
       "        3.9600000e+00,  3.9700000e+00,  3.9800000e+00,  3.9900000e+00,\n",
       "        4.0000000e+00,  4.0100000e+00,  4.0200000e+00,  4.0300000e+00,\n",
       "        4.0400000e+00,  4.0500000e+00,  4.0600000e+00,  4.0700000e+00,\n",
       "        4.0800000e+00,  4.0900000e+00,  4.1000000e+00,  4.1100000e+00,\n",
       "        4.1200000e+00,  4.1300000e+00,  4.1400000e+00,  4.1500000e+00,\n",
       "        4.1600000e+00,  4.1700000e+00,  4.1800000e+00,  4.1900000e+00,\n",
       "        4.2000000e+00,  4.2100000e+00,  4.2200000e+00,  4.2300000e+00,\n",
       "        4.2400000e+00,  4.2500000e+00,  4.2600000e+00,  4.2700000e+00,\n",
       "        4.2800000e+00,  4.2900000e+00,  4.3000000e+00,  4.3100000e+00,\n",
       "        4.3200000e+00,  4.3300000e+00,  4.3400000e+00,  4.3500000e+00,\n",
       "        4.3600000e+00,  4.3700000e+00,  4.3800000e+00,  4.3900000e+00,\n",
       "        4.4000000e+00,  4.4100000e+00,  4.4200000e+00,  4.4300000e+00,\n",
       "        4.4400000e+00,  4.4500000e+00,  4.4600000e+00,  4.4700000e+00,\n",
       "        4.4800000e+00,  4.4900000e+00,  4.5000000e+00,  4.5100000e+00,\n",
       "        4.5200000e+00,  4.5300000e+00,  4.5400000e+00,  4.5500000e+00,\n",
       "        4.5600000e+00,  4.5700000e+00,  4.5800000e+00,  4.5900000e+00,\n",
       "        4.6000000e+00,  4.6100000e+00,  4.6200000e+00,  4.6300000e+00,\n",
       "        4.6400000e+00,  4.6500000e+00,  4.6600000e+00,  4.6700000e+00,\n",
       "        4.6800000e+00,  4.6900000e+00,  4.7000000e+00,  4.7100000e+00,\n",
       "        4.7200000e+00,  4.7300000e+00,  4.7400000e+00,  4.7500000e+00,\n",
       "        4.7600000e+00,  4.7700000e+00,  4.7800000e+00,  4.7900000e+00,\n",
       "        4.8000000e+00,  4.8100000e+00,  4.8200000e+00,  4.8300000e+00,\n",
       "        4.8400000e+00,  4.8500000e+00,  4.8600000e+00,  4.8700000e+00,\n",
       "        4.8800000e+00,  4.8900000e+00,  4.9000000e+00,  4.9100000e+00,\n",
       "        4.9200000e+00,  4.9300000e+00,  4.9400000e+00,  4.9500000e+00,\n",
       "        4.9600000e+00,  4.9700000e+00,  4.9800000e+00,  4.9900000e+00])"
      ]
     },
     "execution_count": 198,
     "metadata": {},
     "output_type": "execute_result"
    }
   ],
   "source": [
    "points"
   ]
  },
  {
   "cell_type": "code",
   "execution_count": 196,
   "metadata": {},
   "outputs": [],
   "source": [
    "xs,ys = np.meshgrid(points,points)"
   ]
  },
  {
   "cell_type": "code",
   "execution_count": 197,
   "metadata": {},
   "outputs": [
    {
     "data": {
      "text/plain": [
       "array([[-5.  , -5.  , -5.  , ..., -5.  , -5.  , -5.  ],\n",
       "       [-4.99, -4.99, -4.99, ..., -4.99, -4.99, -4.99],\n",
       "       [-4.98, -4.98, -4.98, ..., -4.98, -4.98, -4.98],\n",
       "       ...,\n",
       "       [ 4.97,  4.97,  4.97, ...,  4.97,  4.97,  4.97],\n",
       "       [ 4.98,  4.98,  4.98, ...,  4.98,  4.98,  4.98],\n",
       "       [ 4.99,  4.99,  4.99, ...,  4.99,  4.99,  4.99]])"
      ]
     },
     "execution_count": 197,
     "metadata": {},
     "output_type": "execute_result"
    }
   ],
   "source": [
    "ys"
   ]
  },
  {
   "cell_type": "code",
   "execution_count": 199,
   "metadata": {},
   "outputs": [],
   "source": [
    "z = np.sqrt(xs ** 2 + ys ** 2)"
   ]
  },
  {
   "cell_type": "code",
   "execution_count": 200,
   "metadata": {},
   "outputs": [
    {
     "data": {
      "text/plain": [
       "array([[7.07106781, 7.06400028, 7.05693985, ..., 7.04988652, 7.05693985,\n",
       "        7.06400028],\n",
       "       [7.06400028, 7.05692568, 7.04985815, ..., 7.04279774, 7.04985815,\n",
       "        7.05692568],\n",
       "       [7.05693985, 7.04985815, 7.04278354, ..., 7.03571603, 7.04278354,\n",
       "        7.04985815],\n",
       "       ...,\n",
       "       [7.04988652, 7.04279774, 7.03571603, ..., 7.0286414 , 7.03571603,\n",
       "        7.04279774],\n",
       "       [7.05693985, 7.04985815, 7.04278354, ..., 7.03571603, 7.04278354,\n",
       "        7.04985815],\n",
       "       [7.06400028, 7.05692568, 7.04985815, ..., 7.04279774, 7.04985815,\n",
       "        7.05692568]])"
      ]
     },
     "execution_count": 200,
     "metadata": {},
     "output_type": "execute_result"
    }
   ],
   "source": [
    "z"
   ]
  },
  {
   "cell_type": "code",
   "execution_count": 201,
   "metadata": {},
   "outputs": [],
   "source": [
    "import matplotlib.pyplot as plt"
   ]
  },
  {
   "cell_type": "code",
   "execution_count": 202,
   "metadata": {},
   "outputs": [
    {
     "data": {
      "text/plain": [
       "<matplotlib.colorbar.Colorbar at 0x11a8a9198>"
      ]
     },
     "execution_count": 202,
     "metadata": {},
     "output_type": "execute_result"
    },
    {
     "data": {
      "image/png": "[encoded data removed]",
      "text/plain": [
       "<Figure size 432x288 with 2 Axes>"
      ]
     },
     "metadata": {},
     "output_type": "display_data"
    }
   ],
   "source": [
    "plt.imshow(z, cmap=plt.cm.gray) \n",
    "plt.colorbar()"
   ]
  },
  {
   "cell_type": "code",
   "execution_count": 203,
   "metadata": {},
   "outputs": [
    {
     "data": {
      "text/plain": [
       "Text(0.5,1,'Image plot of $\\\\sqrt{x^2 + y^2}$ for a grid of values')"
      ]
     },
     "execution_count": 203,
     "metadata": {},
     "output_type": "execute_result"
    },
    {
     "data": {
      "image/png": "[encoded data removed]",
      "text/plain": [
       "<Figure size 432x288 with 1 Axes>"
      ]
     },
     "metadata": {},
     "output_type": "display_data"
    }
   ],
   "source": [
    "plt.title(\"Image plot of $\\sqrt{x^2 + y^2}$ for a grid of values\")"
   ]
  },
  {
   "cell_type": "markdown",
   "metadata": {},
   "source": [
    "将条件逻辑表述为数组运算"
   ]
  },
  {
   "cell_type": "code",
   "execution_count": 204,
   "metadata": {},
   "outputs": [],
   "source": [
    "xarr = np.array([1.1, 1.2, 1.3, 1.4, 1.5])"
   ]
  },
  {
   "cell_type": "code",
   "execution_count": 205,
   "metadata": {},
   "outputs": [],
   "source": [
    "yarr = np.array([2.1, 2.2, 2.3, 2.4, 2.5])"
   ]
  },
  {
   "cell_type": "code",
   "execution_count": 206,
   "metadata": {},
   "outputs": [],
   "source": [
    "cond = np.array([True, False, True, True, False])"
   ]
  },
  {
   "cell_type": "code",
   "execution_count": 207,
   "metadata": {},
   "outputs": [],
   "source": [
    "result = [(x if c else y) for x, y, c in zip(xarr, yarr, cond)]"
   ]
  },
  {
   "cell_type": "code",
   "execution_count": 208,
   "metadata": {},
   "outputs": [
    {
     "data": {
      "text/plain": [
       "[1.1, 2.2, 1.3, 1.4, 2.5]"
      ]
     },
     "execution_count": 208,
     "metadata": {},
     "output_type": "execute_result"
    }
   ],
   "source": [
    "result"
   ]
  },
  {
   "cell_type": "code",
   "execution_count": 209,
   "metadata": {},
   "outputs": [],
   "source": [
    "result = np.where(cond, xarr, yarr) #np.where就是三元表达式的另外一个版本"
   ]
  },
  {
   "cell_type": "code",
   "execution_count": 210,
   "metadata": {},
   "outputs": [
    {
     "data": {
      "text/plain": [
       "array([1.1, 2.2, 1.3, 1.4, 2.5])"
      ]
     },
     "execution_count": 210,
     "metadata": {},
     "output_type": "execute_result"
    }
   ],
   "source": [
    "result"
   ]
  },
  {
   "cell_type": "code",
   "execution_count": 211,
   "metadata": {},
   "outputs": [],
   "source": [
    "arr = np.random.randn(4, 4)"
   ]
  },
  {
   "cell_type": "code",
   "execution_count": 212,
   "metadata": {},
   "outputs": [
    {
     "data": {
      "text/plain": [
       "array([[-0.47437327, -0.82893609, -0.40980261, -0.14113725],\n",
       "       [ 1.72873014, -0.09379426,  0.85011251,  0.70667723],\n",
       "       [-1.64054556, -0.66785298, -1.56581876,  0.67980162],\n",
       "       [-0.05991258,  0.06392979, -1.93114681, -0.29640842]])"
      ]
     },
     "execution_count": 212,
     "metadata": {},
     "output_type": "execute_result"
    }
   ],
   "source": [
    "arr"
   ]
  },
  {
   "cell_type": "code",
   "execution_count": 213,
   "metadata": {},
   "outputs": [
    {
     "data": {
      "text/plain": [
       "array([[False, False, False, False],\n",
       "       [ True, False,  True,  True],\n",
       "       [False, False, False,  True],\n",
       "       [False,  True, False, False]])"
      ]
     },
     "execution_count": 213,
     "metadata": {},
     "output_type": "execute_result"
    }
   ],
   "source": [
    "arr > 0 "
   ]
  },
  {
   "cell_type": "code",
   "execution_count": 214,
   "metadata": {},
   "outputs": [
    {
     "data": {
      "text/plain": [
       "array([[-2, -2, -2, -2],\n",
       "       [ 2, -2,  2,  2],\n",
       "       [-2, -2, -2,  2],\n",
       "       [-2,  2, -2, -2]])"
      ]
     },
     "execution_count": 214,
     "metadata": {},
     "output_type": "execute_result"
    }
   ],
   "source": [
    "np.where(arr > 0,2,-2)"
   ]
  },
  {
   "cell_type": "code",
   "execution_count": 215,
   "metadata": {},
   "outputs": [
    {
     "data": {
      "text/plain": [
       "array([[-0.47437327, -0.82893609, -0.40980261, -0.14113725],\n",
       "       [ 2.        , -0.09379426,  2.        ,  2.        ],\n",
       "       [-1.64054556, -0.66785298, -1.56581876,  2.        ],\n",
       "       [-0.05991258,  2.        , -1.93114681, -0.29640842]])"
      ]
     },
     "execution_count": 215,
     "metadata": {},
     "output_type": "execute_result"
    }
   ],
   "source": [
    "np.where(arr > 0, 2, arr) #arr大于0处变为2，不大于0处就是原数"
   ]
  },
  {
   "cell_type": "markdown",
   "metadata": {},
   "source": [
    "### 数学和统计方法"
   ]
  },
  {
   "cell_type": "code",
   "execution_count": 216,
   "metadata": {},
   "outputs": [],
   "source": [
    "arr = np.random.randn(5,4)"
   ]
  },
  {
   "cell_type": "code",
   "execution_count": 217,
   "metadata": {},
   "outputs": [
    {
     "data": {
      "text/plain": [
       "array([[ 0.14807044, -1.70315259,  0.52078016,  1.40458531],\n",
       "       [-0.030925  ,  1.16747641,  0.79859129, -0.17598156],\n",
       "       [-0.78566413, -0.06672847, -0.18353803, -1.74463282],\n",
       "       [-1.35452062, -1.43242008, -1.10823979, -0.3008282 ],\n",
       "       [-1.25152217, -1.24958157,  0.41363475,  0.06386854]])"
      ]
     },
     "execution_count": 217,
     "metadata": {},
     "output_type": "execute_result"
    }
   ],
   "source": [
    "arr"
   ]
  },
  {
   "cell_type": "code",
   "execution_count": 218,
   "metadata": {},
   "outputs": [
    {
     "data": {
      "text/plain": [
       "-0.3435364074397663"
      ]
     },
     "execution_count": 218,
     "metadata": {},
     "output_type": "execute_result"
    }
   ],
   "source": [
    "arr.mean()"
   ]
  },
  {
   "cell_type": "code",
   "execution_count": 219,
   "metadata": {},
   "outputs": [
    {
     "data": {
      "text/plain": [
       "-0.3435364074397663"
      ]
     },
     "execution_count": 219,
     "metadata": {},
     "output_type": "execute_result"
    }
   ],
   "source": [
    "np.mean(arr)"
   ]
  },
  {
   "cell_type": "code",
   "execution_count": 220,
   "metadata": {},
   "outputs": [
    {
     "data": {
      "text/plain": [
       "-6.870728148795326"
      ]
     },
     "execution_count": 220,
     "metadata": {},
     "output_type": "execute_result"
    }
   ],
   "source": [
    "arr.sum()"
   ]
  },
  {
   "cell_type": "code",
   "execution_count": 221,
   "metadata": {},
   "outputs": [
    {
     "data": {
      "text/plain": [
       "array([ 0.09257083,  0.43979028, -0.69514086, -1.04900217, -0.50590011])"
      ]
     },
     "execution_count": 221,
     "metadata": {},
     "output_type": "execute_result"
    }
   ],
   "source": [
    "arr.mean(axis=1) #axis=1表示行"
   ]
  },
  {
   "cell_type": "code",
   "execution_count": 222,
   "metadata": {},
   "outputs": [
    {
     "data": {
      "text/plain": [
       "array([-3.27456148, -3.28440632,  0.44122837, -0.75298872])"
      ]
     },
     "execution_count": 222,
     "metadata": {},
     "output_type": "execute_result"
    }
   ],
   "source": [
    "arr.sum(axis=0) #axis=0表示列"
   ]
  },
  {
   "cell_type": "code",
   "execution_count": 223,
   "metadata": {},
   "outputs": [],
   "source": [
    "arr = np.array([0, 1, 2, 3, 4, 5, 6, 7])"
   ]
  },
  {
   "cell_type": "code",
   "execution_count": 224,
   "metadata": {},
   "outputs": [
    {
     "data": {
      "text/plain": [
       "array([ 0,  1,  3,  6, 10, 15, 21, 28])"
      ]
     },
     "execution_count": 224,
     "metadata": {},
     "output_type": "execute_result"
    }
   ],
   "source": [
    "arr.cumsum() #加法累加函数"
   ]
  },
  {
   "cell_type": "code",
   "execution_count": 225,
   "metadata": {},
   "outputs": [],
   "source": [
    "arr = np.array([[0, 1, 2], [3, 4, 5], [6, 7, 8]])"
   ]
  },
  {
   "cell_type": "code",
   "execution_count": 226,
   "metadata": {},
   "outputs": [
    {
     "data": {
      "text/plain": [
       "array([[0, 1, 2],\n",
       "       [3, 4, 5],\n",
       "       [6, 7, 8]])"
      ]
     },
     "execution_count": 226,
     "metadata": {},
     "output_type": "execute_result"
    }
   ],
   "source": [
    "arr"
   ]
  },
  {
   "cell_type": "code",
   "execution_count": 227,
   "metadata": {},
   "outputs": [
    {
     "data": {
      "text/plain": [
       "array([[ 0,  1,  2],\n",
       "       [ 3,  5,  7],\n",
       "       [ 9, 12, 15]])"
      ]
     },
     "execution_count": 227,
     "metadata": {},
     "output_type": "execute_result"
    }
   ],
   "source": [
    "arr.cumsum(axis=0)"
   ]
  },
  {
   "cell_type": "code",
   "execution_count": 228,
   "metadata": {},
   "outputs": [
    {
     "data": {
      "text/plain": [
       "array([[  0,   0,   0],\n",
       "       [  3,  12,  60],\n",
       "       [  6,  42, 336]])"
      ]
     },
     "execution_count": 228,
     "metadata": {},
     "output_type": "execute_result"
    }
   ],
   "source": [
    "arr.cumprod(axis=1) #乘法累积"
   ]
  },
  {
   "cell_type": "markdown",
   "metadata": {},
   "source": [
    "axis=0:列\n",
    "axis=1:行\n",
    "sum 求和\n",
    "mean 算数平均数\n",
    "std 标准差\n",
    "var 方差\n",
    "min 最小值\n",
    "max 最大值\n",
    "argmin 最小元素的索引\n",
    "argmax 最大元素的索引"
   ]
  },
  {
   "cell_type": "code",
   "execution_count": 229,
   "metadata": {},
   "outputs": [],
   "source": [
    "arr = np.random.randn(100)"
   ]
  },
  {
   "cell_type": "code",
   "execution_count": 230,
   "metadata": {},
   "outputs": [
    {
     "data": {
      "text/plain": [
       "52"
      ]
     },
     "execution_count": 230,
     "metadata": {},
     "output_type": "execute_result"
    }
   ],
   "source": [
    "(arr > 0).sum()"
   ]
  },
  {
   "cell_type": "code",
   "execution_count": 231,
   "metadata": {},
   "outputs": [],
   "source": [
    "bools = np.array([False, False, True, False])"
   ]
  },
  {
   "cell_type": "code",
   "execution_count": 232,
   "metadata": {},
   "outputs": [
    {
     "data": {
      "text/plain": [
       "True"
      ]
     },
     "execution_count": 232,
     "metadata": {},
     "output_type": "execute_result"
    }
   ],
   "source": [
    "bools.any()"
   ]
  },
  {
   "cell_type": "code",
   "execution_count": 233,
   "metadata": {},
   "outputs": [
    {
     "data": {
      "text/plain": [
       "False"
      ]
     },
     "execution_count": 233,
     "metadata": {},
     "output_type": "execute_result"
    }
   ],
   "source": [
    "bools.all()"
   ]
  },
  {
   "cell_type": "markdown",
   "metadata": {},
   "source": [
    "### 排序"
   ]
  },
  {
   "cell_type": "code",
   "execution_count": 234,
   "metadata": {},
   "outputs": [],
   "source": [
    "arr = np.random.randn(6)"
   ]
  },
  {
   "cell_type": "code",
   "execution_count": 235,
   "metadata": {},
   "outputs": [
    {
     "data": {
      "text/plain": [
       "array([ 0.06884949,  1.00394398, -0.53627337, -0.99609455, -0.9970906 ,\n",
       "       -0.79768193])"
      ]
     },
     "execution_count": 235,
     "metadata": {},
     "output_type": "execute_result"
    }
   ],
   "source": [
    "arr"
   ]
  },
  {
   "cell_type": "code",
   "execution_count": 236,
   "metadata": {},
   "outputs": [],
   "source": [
    "arr.sort()"
   ]
  },
  {
   "cell_type": "code",
   "execution_count": 237,
   "metadata": {},
   "outputs": [
    {
     "data": {
      "text/plain": [
       "array([-0.9970906 , -0.99609455, -0.79768193, -0.53627337,  0.06884949,\n",
       "        1.00394398])"
      ]
     },
     "execution_count": 237,
     "metadata": {},
     "output_type": "execute_result"
    }
   ],
   "source": [
    "arr"
   ]
  },
  {
   "cell_type": "code",
   "execution_count": 238,
   "metadata": {},
   "outputs": [],
   "source": [
    "arr = np.random.randn(5, 3)"
   ]
  },
  {
   "cell_type": "code",
   "execution_count": 239,
   "metadata": {},
   "outputs": [
    {
     "data": {
      "text/plain": [
       "array([[ 0.44943552, -1.40005391, -0.3511676 ],\n",
       "       [ 0.3160898 ,  0.93339283, -0.47739544],\n",
       "       [ 1.0618829 ,  0.43668849,  1.87752685],\n",
       "       [ 0.5113634 ,  0.33237614, -1.0226028 ],\n",
       "       [ 1.44922205,  0.9663852 ,  1.30336151]])"
      ]
     },
     "execution_count": 239,
     "metadata": {},
     "output_type": "execute_result"
    }
   ],
   "source": [
    "arr"
   ]
  },
  {
   "cell_type": "code",
   "execution_count": 240,
   "metadata": {},
   "outputs": [],
   "source": [
    "arr.sort(1)"
   ]
  },
  {
   "cell_type": "code",
   "execution_count": 241,
   "metadata": {},
   "outputs": [
    {
     "data": {
      "text/plain": [
       "array([[-1.40005391, -0.3511676 ,  0.44943552],\n",
       "       [-0.47739544,  0.3160898 ,  0.93339283],\n",
       "       [ 0.43668849,  1.0618829 ,  1.87752685],\n",
       "       [-1.0226028 ,  0.33237614,  0.5113634 ],\n",
       "       [ 0.9663852 ,  1.30336151,  1.44922205]])"
      ]
     },
     "execution_count": 241,
     "metadata": {},
     "output_type": "execute_result"
    }
   ],
   "source": [
    "arr"
   ]
  },
  {
   "cell_type": "code",
   "execution_count": 242,
   "metadata": {},
   "outputs": [],
   "source": [
    "large_arr = np.random.randn(1000)"
   ]
  },
  {
   "cell_type": "code",
   "execution_count": 243,
   "metadata": {},
   "outputs": [],
   "source": [
    "large_arr.sort()"
   ]
  },
  {
   "cell_type": "code",
   "execution_count": 244,
   "metadata": {},
   "outputs": [
    {
     "data": {
      "text/plain": [
       "-1.7053629415362892"
      ]
     },
     "execution_count": 244,
     "metadata": {},
     "output_type": "execute_result"
    }
   ],
   "source": [
    "large_arr[int(0.05 * len(large_arr))]"
   ]
  },
  {
   "cell_type": "markdown",
   "metadata": {},
   "source": [
    "### 唯一化以及其他的集合逻辑"
   ]
  },
  {
   "cell_type": "code",
   "execution_count": 245,
   "metadata": {},
   "outputs": [],
   "source": [
    "names = np.array(['Bob', 'Joe', 'Will', 'Bob', 'Will','Joe', 'Joe'])"
   ]
  },
  {
   "cell_type": "code",
   "execution_count": 246,
   "metadata": {},
   "outputs": [
    {
     "data": {
      "text/plain": [
       "array(['Bob', 'Joe', 'Will'], dtype='<U4')"
      ]
     },
     "execution_count": 246,
     "metadata": {},
     "output_type": "execute_result"
    }
   ],
   "source": [
    "np.unique(names)"
   ]
  },
  {
   "cell_type": "code",
   "execution_count": 247,
   "metadata": {},
   "outputs": [],
   "source": [
    "ints = np.array([3, 3, 3, 2, 2, 1, 1, 4, 4])"
   ]
  },
  {
   "cell_type": "code",
   "execution_count": 248,
   "metadata": {},
   "outputs": [
    {
     "data": {
      "text/plain": [
       "array([1, 2, 3, 4])"
      ]
     },
     "execution_count": 248,
     "metadata": {},
     "output_type": "execute_result"
    }
   ],
   "source": [
    "np.unique(ints)"
   ]
  },
  {
   "cell_type": "code",
   "execution_count": 249,
   "metadata": {},
   "outputs": [
    {
     "data": {
      "text/plain": [
       "['Bob', 'Joe', 'Will']"
      ]
     },
     "execution_count": 249,
     "metadata": {},
     "output_type": "execute_result"
    }
   ],
   "source": [
    "sorted(set(names)) #等价于上面的np.unique"
   ]
  },
  {
   "cell_type": "code",
   "execution_count": 250,
   "metadata": {},
   "outputs": [],
   "source": [
    "values = np.array([6, 0, 0, 3, 2, 5, 6])"
   ]
  },
  {
   "cell_type": "code",
   "execution_count": 251,
   "metadata": {},
   "outputs": [
    {
     "data": {
      "text/plain": [
       "array([ True, False, False,  True,  True, False,  True])"
      ]
     },
     "execution_count": 251,
     "metadata": {},
     "output_type": "execute_result"
    }
   ],
   "source": [
    "np.in1d(values, [2, 3, 6]) #这个的效果就是测试values里面的值在不在[2,3,6]里面"
   ]
  },
  {
   "cell_type": "markdown",
   "metadata": {},
   "source": [
    "unique(x) 计算x中的唯一元素，并且返回有序结果\n",
    "intersect1d(x,y) 计算x和y中的公共元素，并返回有序结果\n",
    "union1d(x,y) 计算x和y的并集，并且返回有序结果\n",
    "in1d(x,y) 得到一个表达 x的元素是否包含于y 的bool值数组\n",
    "setdiff1d(x,y) 集合的差，即元素在x中且不在y中\n",
    "setxor1d(x,y) 集合的对称差，即存在于一个数组中但不同时存在于两个数组中的元素，也就是两个集合差别的元素的所有元素"
   ]
  },
  {
   "cell_type": "markdown",
   "metadata": {},
   "source": [
    "### 用于数组的文件输入输出"
   ]
  },
  {
   "cell_type": "code",
   "execution_count": 252,
   "metadata": {},
   "outputs": [],
   "source": [
    "arr = np.arange(10)"
   ]
  },
  {
   "cell_type": "code",
   "execution_count": 253,
   "metadata": {},
   "outputs": [],
   "source": [
    "np.save('some_array',arr)"
   ]
  },
  {
   "cell_type": "code",
   "execution_count": 254,
   "metadata": {},
   "outputs": [
    {
     "data": {
      "text/plain": [
       "array([0, 1, 2, 3, 4, 5, 6, 7, 8, 9])"
      ]
     },
     "execution_count": 254,
     "metadata": {},
     "output_type": "execute_result"
    }
   ],
   "source": [
    "np.load('some_array.npy')"
   ]
  },
  {
   "cell_type": "code",
   "execution_count": 255,
   "metadata": {},
   "outputs": [],
   "source": [
    "np.savez('array_archive.npz', a=arr, b=arr) #savez将多个数组保存在一个未压缩的文件中，将数组以关键字形式传入"
   ]
  },
  {
   "cell_type": "code",
   "execution_count": 256,
   "metadata": {},
   "outputs": [],
   "source": [
    "arch = np.load('array_archive.npz')"
   ]
  },
  {
   "cell_type": "code",
   "execution_count": 257,
   "metadata": {},
   "outputs": [
    {
     "data": {
      "text/plain": [
       "array([0, 1, 2, 3, 4, 5, 6, 7, 8, 9])"
      ]
     },
     "execution_count": 257,
     "metadata": {},
     "output_type": "execute_result"
    }
   ],
   "source": [
    "arch['b']"
   ]
  },
  {
   "cell_type": "code",
   "execution_count": 258,
   "metadata": {},
   "outputs": [],
   "source": [
    "np.savez_compressed('arrays_compressed.npz', a=arr, b=arr) #上面执行指令的压缩文件形式"
   ]
  },
  {
   "cell_type": "markdown",
   "metadata": {},
   "source": [
    "### 线性代数"
   ]
  },
  {
   "cell_type": "code",
   "execution_count": 259,
   "metadata": {},
   "outputs": [],
   "source": [
    "x = np.array([[1., 2., 3.], [4., 5., 6.]])"
   ]
  },
  {
   "cell_type": "code",
   "execution_count": 260,
   "metadata": {},
   "outputs": [],
   "source": [
    "y = np.array([[6., 23.], [-1, 7], [8, 9]])"
   ]
  },
  {
   "cell_type": "code",
   "execution_count": 261,
   "metadata": {},
   "outputs": [
    {
     "data": {
      "text/plain": [
       "array([[1., 2., 3.],\n",
       "       [4., 5., 6.]])"
      ]
     },
     "execution_count": 261,
     "metadata": {},
     "output_type": "execute_result"
    }
   ],
   "source": [
    "x"
   ]
  },
  {
   "cell_type": "code",
   "execution_count": 262,
   "metadata": {},
   "outputs": [
    {
     "data": {
      "text/plain": [
       "array([[ 6., 23.],\n",
       "       [-1.,  7.],\n",
       "       [ 8.,  9.]])"
      ]
     },
     "execution_count": 262,
     "metadata": {},
     "output_type": "execute_result"
    }
   ],
   "source": [
    "y"
   ]
  },
  {
   "cell_type": "code",
   "execution_count": 263,
   "metadata": {},
   "outputs": [
    {
     "data": {
      "text/plain": [
       "array([[ 28.,  64.],\n",
       "       [ 67., 181.]])"
      ]
     },
     "execution_count": 263,
     "metadata": {},
     "output_type": "execute_result"
    }
   ],
   "source": [
    "x.dot(y)"
   ]
  },
  {
   "cell_type": "code",
   "execution_count": 264,
   "metadata": {},
   "outputs": [
    {
     "data": {
      "text/plain": [
       "array([[ 28.,  64.],\n",
       "       [ 67., 181.]])"
      ]
     },
     "execution_count": 264,
     "metadata": {},
     "output_type": "execute_result"
    }
   ],
   "source": [
    "np.dot(x,y)"
   ]
  },
  {
   "cell_type": "code",
   "execution_count": 265,
   "metadata": {},
   "outputs": [
    {
     "data": {
      "text/plain": [
       "array([ 6., 15.])"
      ]
     },
     "execution_count": 265,
     "metadata": {},
     "output_type": "execute_result"
    }
   ],
   "source": [
    "np.dot(x, np.ones(3))"
   ]
  },
  {
   "cell_type": "code",
   "execution_count": 266,
   "metadata": {},
   "outputs": [
    {
     "data": {
      "text/plain": [
       "array([ 6., 15.])"
      ]
     },
     "execution_count": 266,
     "metadata": {},
     "output_type": "execute_result"
    }
   ],
   "source": [
    "x @ np.ones(3) # @符(类似 Python 3.5)也可以用作中缀运算符，进行矩阵乘法"
   ]
  },
  {
   "cell_type": "code",
   "execution_count": 267,
   "metadata": {},
   "outputs": [],
   "source": [
    "from numpy.linalg import inv, qr"
   ]
  },
  {
   "cell_type": "code",
   "execution_count": 268,
   "metadata": {},
   "outputs": [],
   "source": [
    "X = np.random.randn(5, 5)"
   ]
  },
  {
   "cell_type": "code",
   "execution_count": 274,
   "metadata": {},
   "outputs": [
    {
     "data": {
      "text/plain": [
       "array([[ 4.66784636, -1.98850166, -0.29237325, -0.88987833,  2.05935006],\n",
       "       [-1.98850166,  7.03250544,  1.90869366, -0.50658936,  0.32433123],\n",
       "       [-0.29237325,  1.90869366,  1.71281164, -0.85214804, -0.6763776 ],\n",
       "       [-0.88987833, -0.50658936, -0.85214804,  1.30942751, -0.35700939],\n",
       "       [ 2.05935006,  0.32433123, -0.6763776 , -0.35700939,  2.2326853 ]])"
      ]
     },
     "execution_count": 274,
     "metadata": {},
     "output_type": "execute_result"
    }
   ],
   "source": [
    "mat = X.T.dot(X)\n",
    "mat"
   ]
  },
  {
   "cell_type": "code",
   "execution_count": 275,
   "metadata": {},
   "outputs": [
    {
     "data": {
      "text/plain": [
       "array([[ 1.10041948,  0.77044012, -1.51559339, -0.38983529, -1.64838054],\n",
       "       [ 0.77044012,  0.84651526, -1.72116996, -0.66755804, -1.46175663],\n",
       "       [-1.51559339, -1.72116996,  4.80214716,  2.37892495,  3.48312852],\n",
       "       [-0.38983529, -0.66755804,  2.37892495,  2.20578235,  1.52993071],\n",
       "       [-1.64838054, -1.46175663,  3.48312852,  1.52993071,  3.48047064]])"
      ]
     },
     "execution_count": 275,
     "metadata": {},
     "output_type": "execute_result"
    }
   ],
   "source": [
    "inv(mat)"
   ]
  },
  {
   "cell_type": "code",
   "execution_count": 276,
   "metadata": {},
   "outputs": [
    {
     "data": {
      "text/plain": [
       "array([[ 1.00000000e+00, -1.57891679e-16, -1.30858147e-15,\n",
       "        -1.39395634e-16,  4.06537308e-16],\n",
       "       [-1.56252567e-16,  1.00000000e+00,  9.51006240e-16,\n",
       "         6.19886101e-16,  1.68279202e-15],\n",
       "       [-7.96957710e-17, -1.69991467e-16,  1.00000000e+00,\n",
       "        -2.98250760e-16, -4.89505577e-16],\n",
       "       [ 5.06532249e-16,  6.00898735e-16, -8.65396164e-16,\n",
       "         1.00000000e+00, -2.37835244e-16],\n",
       "       [ 1.51931137e-16, -2.36431841e-16, -1.59269290e-16,\n",
       "         1.65656115e-16,  1.00000000e+00]])"
      ]
     },
     "execution_count": 276,
     "metadata": {},
     "output_type": "execute_result"
    }
   ],
   "source": [
    "mat.dot(inv(mat))"
   ]
  },
  {
   "cell_type": "code",
   "execution_count": 272,
   "metadata": {},
   "outputs": [],
   "source": [
    "q, r = qr(mat)"
   ]
  },
  {
   "cell_type": "code",
   "execution_count": 273,
   "metadata": {},
   "outputs": [
    {
     "data": {
      "text/plain": [
       "array([[-5.55528727,  4.08718837,  1.13325632,  0.86363756, -2.53472521],\n",
       "       [ 0.        , -6.38044653, -2.01459296,  1.21128484, -1.27886482],\n",
       "       [ 0.        ,  0.        , -1.58212059,  0.99811992,  1.29659492],\n",
       "       [ 0.        ,  0.        ,  0.        , -0.63828241,  0.37768735],\n",
       "       [ 0.        ,  0.        ,  0.        ,  0.        ,  0.17834285]])"
      ]
     },
     "execution_count": 273,
     "metadata": {},
     "output_type": "execute_result"
    }
   ],
   "source": [
    "r"
   ]
  },
  {
   "cell_type": "markdown",
   "metadata": {},
   "source": [
    "dot 矩阵乘法\n",
    "trace 计算对角线元素的和\n",
    "det 矩阵行列式的值\n",
    "eig 方阵的特征值\n",
    "inv 方阵的逆\n",
    "qr QR分解\n",
    "solve 解线性方程\n",
    "lstsq 最小二乘解"
   ]
  },
  {
   "cell_type": "markdown",
   "metadata": {},
   "source": [
    "### 伪随机数生成"
   ]
  },
  {
   "cell_type": "code",
   "execution_count": 278,
   "metadata": {},
   "outputs": [],
   "source": [
    "samples = np.random.normal(size=(4, 4)) #normal得到一个标准正态分布的 4×4 样本数组"
   ]
  },
  {
   "cell_type": "code",
   "execution_count": 279,
   "metadata": {},
   "outputs": [
    {
     "data": {
      "text/plain": [
       "array([[-1.13984273,  0.39362693, -0.45006968, -1.17745152],\n",
       "       [-0.14678909,  0.67989246,  1.11988635,  1.19405942],\n",
       "       [-1.01524778,  0.47782929,  0.12251441, -0.27303413],\n",
       "       [ 0.04188691,  1.47928514, -0.59183469,  0.77367977]])"
      ]
     },
     "execution_count": 279,
     "metadata": {},
     "output_type": "execute_result"
    }
   ],
   "source": [
    "samples"
   ]
  },
  {
   "cell_type": "code",
   "execution_count": 280,
   "metadata": {},
   "outputs": [],
   "source": [
    "from random import normalvariate"
   ]
  },
  {
   "cell_type": "code",
   "execution_count": 281,
   "metadata": {},
   "outputs": [],
   "source": [
    "N = 1000000"
   ]
  },
  {
   "cell_type": "code",
   "execution_count": 287,
   "metadata": {
    "collapsed": true
   },
   "outputs": [
    {
     "data": {
      "text/plain": [
       "[0.8580274740373606,\n",
       " -0.3449822512846061,\n",
       " 0.22349056667676998,\n",
       " -0.6703632854750574,\n",
       " -0.6398500925314976,\n",
       " -0.4291570494621891,\n",
       " -0.03652990893219941,\n",
       " -0.9596715067174535,\n",
       " 0.22374443849424136,\n",
       " 0.02645683199176217,\n",
       " 0.6057212621701613,\n",
       " -0.015329237364976626,\n",
       " -0.6226143132517659,\n",
       " -0.2706718672367255,\n",
       " -0.7803936157573598,\n",
       " -0.8205177184543986,\n",
       " 1.2332078312126045,\n",
       " -0.11281461800736588,\n",
       " -1.1286975970468835,\n",
       " -0.7277138861173759,\n",
       " 0.014254610186221081,\n",
       " 1.1925363187445497,\n",
       " -0.4359015605982069,\n",
       " 1.4763539010255426,\n",
       " -0.6947650266312285,\n",
       " 0.8084757393355322,\n",
       " 1.2185402879088514,\n",
       " 0.8028066542681618,\n",
       " 0.46721899319057986,\n",
       " 0.23102931930576268,\n",
       " -0.36460885522140796,\n",
       " 1.9687017673911582,\n",
       " 1.8244961692515984,\n",
       " 1.290267339080098,\n",
       " -0.011393538719853456,\n",
       " -0.08423730335724003,\n",
       " -0.2312464852351681,\n",
       " 1.7367873471433233,\n",
       " 0.984731381880787,\n",
       " -2.3932618921921773,\n",
       " -0.40795884234010915,\n",
       " -1.444509018405252,\n",
       " 1.212313370520518,\n",
       " -0.36922870145577313,\n",
       " -0.7399052077417997,\n",
       " -0.5001716140888169,\n",
       " -1.019312843679773,\n",
       " 0.15643807032331772,\n",
       " 1.207344760187229,\n",
       " -0.24718937024686224,\n",
       " -0.45031463498848406,\n",
       " -0.5114930152746628,\n",
       " 0.03451057578506236,\n",
       " -1.4790228033151642,\n",
       " -1.1129914640647633,\n",
       " 0.09982281884396084,\n",
       " 0.5215242479842603,\n",
       " -0.41396588765530445,\n",
       " 0.7059047808245791,\n",
       " 0.4265352239268403,\n",
       " -0.6945760671441659,\n",
       " -0.535549920563475,\n",
       " -0.3318770023212767,\n",
       " 2.4505956569419745,\n",
       " -0.48426639370651603,\n",
       " 2.653743131376518,\n",
       " 0.24607324361538352,\n",
       " -0.8406973847246091,\n",
       " 0.9657311307246428,\n",
       " -0.029439056616282742,\n",
       " -0.408757321137063,\n",
       " -0.029443476016170835,\n",
       " 0.7164262616322948,\n",
       " 0.06779185084505368,\n",
       " -0.10707970224325807,\n",
       " -2.3573295137945975,\n",
       " 1.9811025535374192,\n",
       " 0.39015467461396974,\n",
       " -0.6581873784636851,\n",
       " 1.0471204740915698,\n",
       " 0.1968379657987602,\n",
       " 0.1264904263218199,\n",
       " -0.7955306412296368,\n",
       " -1.751068397665463,\n",
       " 0.6893996447507756,\n",
       " 0.922000692659506,\n",
       " -0.5464165710554294,\n",
       " -0.20516470861682354,\n",
       " 0.4313084646931666,\n",
       " -0.013338647430364841,\n",
       " -0.08284416429508255,\n",
       " -0.39348167428523356,\n",
       " 0.5780243691138849,\n",
       " -0.8907554938024147,\n",
       " -0.3625658812279955,\n",
       " -1.4973939630570507,\n",
       " -1.0496166651054126,\n",
       " -0.7707677396488793,\n",
       " -1.0839427966851372,\n",
       " 0.5876283006953542,\n",
       " -0.5617239159101783,\n",
       " 0.0838130475495367,\n",
       " -0.34360119985450277,\n",
       " 0.6117125613192591,\n",
       " 0.177030800902666,\n",
       " -0.054416053555006956,\n",
       " -0.5542885154673708,\n",
       " -0.27106997091894836,\n",
       " -0.1506334869758766,\n",
       " -0.047171133431519935,\n",
       " -0.07898334942655233,\n",
       " -0.6271659751728558,\n",
       " -0.33219615799299096,\n",
       " -1.0003416547809378,\n",
       " 1.6385535110608065,\n",
       " 0.05081729479459149,\n",
       " 0.7483393083297951,\n",
       " 1.1522225710532275,\n",
       " -0.41155970987851753,\n",
       " -0.8738243581004356,\n",
       " -1.051101630225593,\n",
       " -0.8797238562500358,\n",
       " 0.40079809623949014,\n",
       " 0.04792195299920654,\n",
       " -0.5592749054226823,\n",
       " -0.5624737510359142,\n",
       " -0.9796844626819724,\n",
       " 0.4778482742905208,\n",
       " 0.4032483311328942,\n",
       " -0.9456052770549792,\n",
       " 0.6753005180401059,\n",
       " -0.3774788331067726,\n",
       " -0.5884549922699966,\n",
       " -0.2358709365662152,\n",
       " 0.23144782712378006,\n",
       " -0.6147692892295383,\n",
       " -0.016885591842362217,\n",
       " 0.9598541446396158,\n",
       " 0.4419300099337458,\n",
       " -1.4464705828756914,\n",
       " 0.0506931998590226,\n",
       " 0.3891797706368439,\n",
       " -1.6974359209920675,\n",
       " -1.5650922088936177,\n",
       " -0.2858995298258874,\n",
       " -1.1929188259185541,\n",
       " -0.3742440419418802,\n",
       " 0.059881005515351644,\n",
       " 0.3236285996533369,\n",
       " -0.19225130646221036,\n",
       " 1.8311791600608445,\n",
       " -0.6405730695346519,\n",
       " 0.5710200104068697,\n",
       " 0.8967004608456439,\n",
       " 1.2027727808289723,\n",
       " -3.1233600059743107,\n",
       " -0.2875112214895057,\n",
       " -0.24071687312069442,\n",
       " 0.5004203611789676,\n",
       " 1.3486831589836137,\n",
       " 2.2050845576154376,\n",
       " -0.783712463515487,\n",
       " 0.4861072917103646,\n",
       " 0.056699601486403205,\n",
       " -0.28069522056798035,\n",
       " 0.6648341271903028,\n",
       " 1.423454783033306,\n",
       " -0.6541568432039178,\n",
       " -0.4605419265664139,\n",
       " 2.412872871685009,\n",
       " -0.1405258733529363,\n",
       " 1.0144177009697766,\n",
       " -0.5562800949573667,\n",
       " -0.26335221876072773,\n",
       " 0.02042846026678886,\n",
       " -0.10051651074309959,\n",
       " -1.1400711766570506,\n",
       " 0.3009312778641875,\n",
       " -0.10538077712361552,\n",
       " 1.1650241161267927,\n",
       " 0.1561026848945347,\n",
       " 2.106049707885313,\n",
       " -0.5480642375019452,\n",
       " -0.5382279838474583,\n",
       " -1.492685318143465,\n",
       " -1.4212454047556602,\n",
       " 0.2119677237196051,\n",
       " 0.1943375144325263,\n",
       " 0.8757718001056827,\n",
       " 0.1472319067332469,\n",
       " -1.239696331564991,\n",
       " 0.5045593203811001,\n",
       " 0.6650178451831724,\n",
       " -0.18968000563927104,\n",
       " 0.5192363645987299,\n",
       " -0.8855330304072889,\n",
       " -0.7249870546256512,\n",
       " -1.1923563862214004,\n",
       " 0.37128538258668226,\n",
       " 0.3628273946877415,\n",
       " 0.0792425958596993,\n",
       " 0.7019244800717124,\n",
       " -0.6598256421959893,\n",
       " -0.3358491868879775,\n",
       " 0.9115033596237595,\n",
       " 0.05756341875841413,\n",
       " -1.0849686148924331,\n",
       " -2.618226814709571,\n",
       " -0.3996554991477608,\n",
       " -0.02866056403171964,\n",
       " 0.030580456462293258,\n",
       " -1.069245432944847,\n",
       " 2.4964333205452975,\n",
       " 1.5050096118738374,\n",
       " 0.5185706536246172,\n",
       " -1.0431404406235598,\n",
       " 0.38073492643275914,\n",
       " -0.09835208243853504,\n",
       " 0.5695471062934265,\n",
       " -0.8633753452392777,\n",
       " 1.4606939161503938,\n",
       " 0.7053147159043786,\n",
       " -1.6871447958863626,\n",
       " 0.5557611855738338,\n",
       " -0.1920862568346249,\n",
       " 0.11681114852222742,\n",
       " 0.21373294593592507,\n",
       " 1.7439919227746379,\n",
       " 1.6246799905927043,\n",
       " 1.2502345136320525,\n",
       " -0.6742766011296036,\n",
       " -1.9157551349328446,\n",
       " 0.07674752190724703,\n",
       " 0.3248685069645661,\n",
       " 0.8639955494451879,\n",
       " -0.052811046149806085,\n",
       " -1.2749924656862037,\n",
       " 0.5957747133387326,\n",
       " -1.0156128570094807,\n",
       " 0.31177344816685126,\n",
       " -0.6596645770677235,\n",
       " 0.6102519029108098,\n",
       " 0.35225838843846036,\n",
       " 0.033143314137614004,\n",
       " 0.27495924754474005,\n",
       " 0.8972469246990349,\n",
       " 0.6157189313177733,\n",
       " 0.4344338577673731,\n",
       " -0.1427813248158998,\n",
       " -0.055449573435689396,\n",
       " 0.36032139945732966,\n",
       " -1.4396325945081483,\n",
       " 2.4187850633581722,\n",
       " 0.8265346847979443,\n",
       " 1.7803640149634088,\n",
       " 0.8161080613559013,\n",
       " 0.9905280193533966,\n",
       " 1.0164404593981202,\n",
       " -0.4449852931554883,\n",
       " -0.5063586165167895,\n",
       " -0.3571477061043158,\n",
       " 0.588696809453638,\n",
       " 0.031107990209502834,\n",
       " 0.5846302789895395,\n",
       " -0.06761040806869754,\n",
       " 0.7257278662483604,\n",
       " 1.215068614838869,\n",
       " -1.6031548579404897,\n",
       " -1.066637683354479,\n",
       " 0.7054044047639877,\n",
       " 0.7909301097310957,\n",
       " -1.5127113155889917,\n",
       " -1.2089675391604848,\n",
       " -0.8610345689566368,\n",
       " -0.3062132925045246,\n",
       " -1.1819581044235197,\n",
       " -0.256950847806363,\n",
       " -2.2026710103256324,\n",
       " 1.0124481366696416,\n",
       " -0.3775411104895119,\n",
       " 0.6073185887241103,\n",
       " -0.26988105139774504,\n",
       " -1.8920757995273934,\n",
       " -0.3341111280967596,\n",
       " 0.04242584744752118,\n",
       " -0.37991698639976734,\n",
       " 1.6600534906184257,\n",
       " -1.0468462791259006,\n",
       " 0.7998043658944273,\n",
       " -2.1998832065900604,\n",
       " -1.5675543956047897,\n",
       " 0.4441921345060824,\n",
       " -1.239465951868221,\n",
       " 1.356544847115977,\n",
       " -0.14781680566968078,\n",
       " 0.2818285168596564,\n",
       " -0.40254054688413354,\n",
       " 0.7130417675425769,\n",
       " -0.3621549292120508,\n",
       " 0.6466779051517462,\n",
       " -0.05276572401904334,\n",
       " 1.9155767656056129,\n",
       " -0.5943502285678197,\n",
       " -1.6375413140399246,\n",
       " -0.9667018877056625,\n",
       " -0.8085254507882528,\n",
       " -0.2655311209879413,\n",
       " -0.6779475475054368,\n",
       " -0.7557298863140961,\n",
       " 1.0170319671223793,\n",
       " 2.40478236889179,\n",
       " -0.1444037963180331,\n",
       " -0.3017489193713813,\n",
       " -0.5781696499752114,\n",
       " 1.4335815651078507,\n",
       " -0.13382469403669012,\n",
       " -1.7713536741132416,\n",
       " 1.508356670750124,\n",
       " -1.6722456475192407,\n",
       " 0.782372807747755,\n",
       " 0.8455430172194514,\n",
       " -1.1438959126491486,\n",
       " 0.14148857822085367,\n",
       " 0.0035097009476910174,\n",
       " 1.91221317594857,\n",
       " -0.2758500173505313,\n",
       " -0.6832903807616897,\n",
       " 1.3380661143365935,\n",
       " -1.2670159231930889,\n",
       " 0.4802107465081323,\n",
       " -0.6425348445787004,\n",
       " -1.0347142026911822,\n",
       " -1.0011063705486463,\n",
       " 0.45506193551655744,\n",
       " -0.4256416041001169,\n",
       " 1.7914780574984324,\n",
       " -0.4802678152959423,\n",
       " 0.5878829340484094,\n",
       " 0.02569057464327049,\n",
       " 1.9013433072107926,\n",
       " -0.0578838090828139,\n",
       " -0.19996076905670226,\n",
       " 1.3873041718567585,\n",
       " -2.019216108475256,\n",
       " 0.0830969753930643,\n",
       " -1.049704072424158,\n",
       " 0.5120007459199659,\n",
       " 1.9706027547090894,\n",
       " 0.874634359857428,\n",
       " -0.3239975771116123,\n",
       " -0.3345464902971201,\n",
       " -0.8437516157878935,\n",
       " 0.6214436136741159,\n",
       " -0.4214433409936679,\n",
       " 0.7342090720368576,\n",
       " -1.2638744675717934,\n",
       " 1.058454247068094,\n",
       " 0.1543237046809646,\n",
       " -0.16380299327438416,\n",
       " -0.5923955323097835,\n",
       " -0.01444732047869497,\n",
       " -0.2844012371422885,\n",
       " -1.0526281291877762,\n",
       " 1.0494748456043468,\n",
       " -0.18390588154934998,\n",
       " -1.887577982240215,\n",
       " 2.979649744803543,\n",
       " 0.4069364234157415,\n",
       " 0.9476904026413183,\n",
       " 0.09482731715422932,\n",
       " 0.12032451859949694,\n",
       " -0.4068890766231164,\n",
       " 0.23542866512243935,\n",
       " -0.5649291900287082,\n",
       " -1.7150206034932067,\n",
       " 0.7223694165503598,\n",
       " -0.45845152976675285,\n",
       " 0.6384785978206103,\n",
       " -0.4701425877162383,\n",
       " -0.6508284118210739,\n",
       " 0.7527489253569086,\n",
       " -0.28906364959997405,\n",
       " 0.3175190832077629,\n",
       " -0.39706607387055065,\n",
       " -1.5378344566511157,\n",
       " 0.03566206497467169,\n",
       " -0.19365667331185724,\n",
       " -0.6442297314905487,\n",
       " 0.8249428056241128,\n",
       " -1.3903116661969295,\n",
       " 0.2148408150175511,\n",
       " -1.2414350506166147,\n",
       " -0.6007221324315337,\n",
       " 0.18054110906617446,\n",
       " -1.2970254588533054,\n",
       " 1.1874290792596254,\n",
       " 0.8984390728534393,\n",
       " 0.07527574922022877,\n",
       " 0.8099018623468699,\n",
       " 1.1999311598252087,\n",
       " 0.19447270979447817,\n",
       " -0.42458666614765805,\n",
       " 0.08644609288260496,\n",
       " -1.2630442439155702,\n",
       " 0.5538370738133142,\n",
       " -0.4304169106289533,\n",
       " 1.228164092430453,\n",
       " -0.8325716057485459,\n",
       " 2.2385067632523517,\n",
       " 1.0248232826160046,\n",
       " 1.215860778873131,\n",
       " -0.16701710900969288,\n",
       " -0.022923382674675495,\n",
       " -1.2947665430088955,\n",
       " 0.863283549153692,\n",
       " -0.4159340630981656,\n",
       " 0.9494022427819887,\n",
       " 0.4220549546633199,\n",
       " 0.419399263952232,\n",
       " 0.13086273120294636,\n",
       " -0.4224397363774191,\n",
       " 0.0926295223109717,\n",
       " 0.42942380943702174,\n",
       " -1.7971636386814012,\n",
       " -0.5922403573270482,\n",
       " 0.6202929378321812,\n",
       " -0.45114061649762327,\n",
       " 0.5702141097468769,\n",
       " -0.7327714110380551,\n",
       " -0.4593679923057303,\n",
       " -0.41715841631903033,\n",
       " -0.852614837576236,\n",
       " -0.6885111057346683,\n",
       " -0.4969555366928581,\n",
       " 0.06584744217267956,\n",
       " -0.8691212295924458,\n",
       " 1.9974778375429967,\n",
       " 0.8263319414259357,\n",
       " 0.6635775956192976,\n",
       " -2.4848011325461155,\n",
       " -0.9811135703380944,\n",
       " 0.29690809664411594,\n",
       " 0.15869768174310955,\n",
       " -0.08221587913897921,\n",
       " -0.8768965385768213,\n",
       " -0.4845159170575388,\n",
       " 0.2919424541921618,\n",
       " 1.4633346279780846,\n",
       " 1.4717478299241282,\n",
       " -0.5603317844560067,\n",
       " 0.24612879449754294,\n",
       " 0.07768810822181743,\n",
       " 0.15955178609,\n",
       " -0.46296466822823856,\n",
       " 1.092849532225953,\n",
       " 0.38514106936002207,\n",
       " -0.8398192525736503,\n",
       " 0.9083623015522405,\n",
       " 0.17262102525760922,\n",
       " 0.37304341301871424,\n",
       " -0.42970658930130434,\n",
       " -0.9644096421295004,\n",
       " -1.0353736626612462,\n",
       " 1.6035150100622144,\n",
       " -1.3701668267098162,\n",
       " 0.4426611822350261,\n",
       " 1.5896232662540362,\n",
       " 1.8073092864365259,\n",
       " 1.5414256980166412,\n",
       " -0.7414657182929012,\n",
       " -0.8711799670858108,\n",
       " -0.4521122320486595,\n",
       " 0.2628453510633385,\n",
       " 0.3774611349489108,\n",
       " 0.6477727409818657,\n",
       " 0.11887371492467115,\n",
       " -0.2212146428771189,\n",
       " 1.6410214400610352,\n",
       " -2.3354624319293307,\n",
       " 0.6336707801637466,\n",
       " -0.24092193155482766,\n",
       " -1.3476875309984098,\n",
       " 1.2404562447767666,\n",
       " 0.4718770549383038,\n",
       " -2.753865242395566,\n",
       " -0.7474077973470555,\n",
       " -0.9865941504725454,\n",
       " 1.8056818782533544,\n",
       " 0.8345994008898832,\n",
       " -0.10503491854700084,\n",
       " -1.5862207698010788,\n",
       " -0.910637384391636,\n",
       " 1.7429367403026341,\n",
       " -1.1537224387489347,\n",
       " -0.19693074168725166,\n",
       " -1.1862519129531843,\n",
       " 0.3828473300753309,\n",
       " -1.285552452359031,\n",
       " -0.4419451624365651,\n",
       " -0.027533866729126256,\n",
       " 0.7940060420983696,\n",
       " -1.1242086519289447,\n",
       " 0.15622624682739314,\n",
       " 0.2528047421542344,\n",
       " -0.13962663521584537,\n",
       " -0.027681837720584326,\n",
       " 1.567292587935674,\n",
       " -2.0838494736650213,\n",
       " -1.45397654486526,\n",
       " -0.554542119430954,\n",
       " 1.195382746663927,\n",
       " -0.32876585104684897,\n",
       " -1.4097468468569565,\n",
       " -0.2195014193758664,\n",
       " -0.1695328021668945,\n",
       " -0.6697909078050539,\n",
       " 1.53385873764751,\n",
       " 0.6425351339969443,\n",
       " 0.5946338018632117,\n",
       " 0.7225323556954127,\n",
       " -0.09671904527693666,\n",
       " -0.09480964645553767,\n",
       " -0.2593596133769027,\n",
       " -1.8143706563018605,\n",
       " -1.0544529191249734,\n",
       " -1.451863948670766,\n",
       " -0.597413631327361,\n",
       " 0.23694219521105755,\n",
       " -0.023124400946847867,\n",
       " 0.01187841296784472,\n",
       " -0.3726784655769002,\n",
       " -1.3124930405754163,\n",
       " 1.2392627344605496,\n",
       " 0.40649702729977366,\n",
       " 0.769728250782617,\n",
       " 1.0491008654797234,\n",
       " -0.45475204312772255,\n",
       " -1.3706424394138277,\n",
       " -1.6349456656761452,\n",
       " -0.6230115975493046,\n",
       " 0.8169804409554858,\n",
       " 0.46121868644207603,\n",
       " -0.45923814736688573,\n",
       " -1.9576788248164434,\n",
       " -0.3438431306598809,\n",
       " -0.6170022824786434,\n",
       " 1.1903871207216288,\n",
       " -0.7790058243628952,\n",
       " 2.4747904686682687,\n",
       " -0.7492674495175004,\n",
       " 1.2337940724150998,\n",
       " -0.8611411463541416,\n",
       " -1.685971505725702,\n",
       " 2.172429130822912,\n",
       " 0.41534110286684595,\n",
       " 0.849564033874747,\n",
       " -0.9101766696843451,\n",
       " 1.0432940701981919,\n",
       " -0.7622258895208255,\n",
       " -0.9111957102099277,\n",
       " 1.448228458023799,\n",
       " -0.05159344911675292,\n",
       " 1.0299765600569306,\n",
       " -0.6319762907091795,\n",
       " -1.0724431483330321,\n",
       " 0.5462043640180724,\n",
       " 0.8168771102023908,\n",
       " 0.31314470966347147,\n",
       " 0.9559160576208892,\n",
       " 1.0942160597782313,\n",
       " -0.20213831411473476,\n",
       " -0.7014534972170905,\n",
       " 0.9007846122465206,\n",
       " -0.4654823561969736,\n",
       " 2.801957957492818,\n",
       " -0.48529035041304847,\n",
       " -1.0657421485452134,\n",
       " 0.4933184469840543,\n",
       " -0.08736912304623455,\n",
       " 0.2789162430851081,\n",
       " 0.14867373025164343,\n",
       " -0.7403847027914408,\n",
       " -0.5036517233528923,\n",
       " 1.0526888793699227,\n",
       " -2.3062290264764234,\n",
       " 0.862968185522946,\n",
       " -0.15510228854581476,\n",
       " 0.30619095684571007,\n",
       " -0.7683272615945765,\n",
       " 0.7172971672120686,\n",
       " 1.8703515254874694,\n",
       " -0.6181607824855937,\n",
       " -0.23078124537402553,\n",
       " -0.8409173819679554,\n",
       " -0.36988236634789756,\n",
       " 0.6823951458561088,\n",
       " 0.7556508287222748,\n",
       " 0.31210487184722074,\n",
       " 0.2565426778694304,\n",
       " -3.3114349309874913,\n",
       " -0.987043967443054,\n",
       " 0.8390360154657458,\n",
       " -1.8721742094393692,\n",
       " -1.3330265947890994,\n",
       " -1.0871263889754108,\n",
       " 0.6073979089333182,\n",
       " -0.43140888704700253,\n",
       " 0.02189514459693248,\n",
       " 0.54320416130098,\n",
       " -0.7543101890116586,\n",
       " -0.7280689062754774,\n",
       " 0.09181893730409643,\n",
       " -1.2903163145647716,\n",
       " 0.26393909452404907,\n",
       " 0.93549426370372,\n",
       " -0.1744717626976085,\n",
       " -0.19374116608537045,\n",
       " 1.528817579889702,\n",
       " -1.548572044922736,\n",
       " 0.42418062809387547,\n",
       " -0.09881733713554902,\n",
       " 0.2765388262324715,\n",
       " 0.9569290274868366,\n",
       " 0.48176651083814775,\n",
       " -0.04198159208275063,\n",
       " -0.8055214684912009,\n",
       " 0.451502056691691,\n",
       " 0.008768298579900281,\n",
       " 0.890647145613655,\n",
       " -0.5445872197290823,\n",
       " -0.18846515846466852,\n",
       " 1.494650677033318,\n",
       " -1.4589476612624133,\n",
       " 0.10573234459523247,\n",
       " 2.3441628867398148,\n",
       " 0.23031620644114287,\n",
       " -1.0523675923373246,\n",
       " -1.7977587362431293,\n",
       " -0.19242550619308071,\n",
       " -2.0870104816702972,\n",
       " -1.0487000553199082,\n",
       " 2.025753144943195,\n",
       " -1.245517244633872,\n",
       " 0.7117829462076561,\n",
       " 0.35308773879195327,\n",
       " 0.21791612640759928,\n",
       " -1.0817662010777491,\n",
       " 0.6026841828389995,\n",
       " 0.36293267824309655,\n",
       " -0.9573321359690622,\n",
       " -0.539306115038824,\n",
       " -0.47268325471142053,\n",
       " 2.133405467141139,\n",
       " 0.2100363822525209,\n",
       " 0.25583765362150845,\n",
       " -0.2218590760902786,\n",
       " -0.7314885129322498,\n",
       " -0.3549777542829202,\n",
       " 0.8335970053596715,\n",
       " 2.2355074433460698,\n",
       " 1.3030982580271318,\n",
       " -1.0101594831941436,\n",
       " -0.23060072573009424,\n",
       " 0.8321122707634407,\n",
       " 0.7558712243657267,\n",
       " -0.7703091332017841,\n",
       " 1.2626544450277437,\n",
       " -1.213928980284482,\n",
       " 0.22487177486061638,\n",
       " -1.1856763850559628,\n",
       " 1.024836468664554,\n",
       " -2.874609002138186,\n",
       " -0.7959364428308893,\n",
       " 1.2825937202901858,\n",
       " -1.2898543570602596,\n",
       " 0.07400101054642606,\n",
       " 0.17471445933497504,\n",
       " 0.9842664761109838,\n",
       " -0.0875497083269171,\n",
       " 0.03626566864315627,\n",
       " 0.021568967547513286,\n",
       " -0.08732501639192217,\n",
       " -0.2994773994132109,\n",
       " -0.3602005179627999,\n",
       " -1.851875237848925,\n",
       " 1.2412069035602646,\n",
       " 1.4201510277358336,\n",
       " 0.90484433681325,\n",
       " -0.09840773228606438,\n",
       " 0.11335020072320583,\n",
       " 0.16642094381494474,\n",
       " 0.270924086630254,\n",
       " 0.17996038782833634,\n",
       " 1.5674638651350057,\n",
       " 1.3001862385892848,\n",
       " -0.21591328664004267,\n",
       " -0.846422835050793,\n",
       " -0.4004451864882257,\n",
       " 1.626618176222987,\n",
       " 0.3426915301112983,\n",
       " 0.012934152232221875,\n",
       " -0.14248846658075728,\n",
       " -1.4738133411484913,\n",
       " -1.1883335979995562,\n",
       " 0.37197431218209837,\n",
       " 0.5960886181084839,\n",
       " 1.4424369979461444,\n",
       " 0.9062269124562382,\n",
       " 0.5026844521850422,\n",
       " 1.819974611152342,\n",
       " 0.32089829446759227,\n",
       " -0.46583022301988275,\n",
       " 0.20084108395357111,\n",
       " -0.6936976612961524,\n",
       " 0.3170202335034494,\n",
       " -1.1046875653236268,\n",
       " 0.07299640432189738,\n",
       " -1.1937149502048399,\n",
       " 0.8954083335427725,\n",
       " -1.1954898069746358,\n",
       " -0.39032932636869966,\n",
       " 0.08431687896638149,\n",
       " -0.02472771746598229,\n",
       " -1.0481347084095283,\n",
       " -1.521867753717214,\n",
       " -0.9012749632843007,\n",
       " 0.7572959696292828,\n",
       " -0.7532489506238861,\n",
       " 1.3848485569526776,\n",
       " 0.7081396969814866,\n",
       " -0.2287327206595195,\n",
       " 1.2451542954956967,\n",
       " -0.7317655482464603,\n",
       " 1.6301640535578596,\n",
       " -1.4472690229287168,\n",
       " -1.2822271881140146,\n",
       " 0.38080622172267453,\n",
       " 1.204380415842057,\n",
       " 0.4111820091527034,\n",
       " -1.538397935686055,\n",
       " 0.27535832678365324,\n",
       " -0.24996234017795388,\n",
       " 0.811740672093073,\n",
       " -0.28134393290341486,\n",
       " -0.6921489637140779,\n",
       " 0.08351415580625464,\n",
       " -1.2575819569067221,\n",
       " 0.10347101292657729,\n",
       " -0.31350121499582745,\n",
       " -1.0268447826171887,\n",
       " 0.5080486461323931,\n",
       " 1.251885966203669,\n",
       " 0.5310569633614611,\n",
       " 1.1119565156155224,\n",
       " -0.6535171659687457,\n",
       " -1.3966219675989486,\n",
       " 0.20360102557689794,\n",
       " -1.1009830302927488,\n",
       " -0.380248263322689,\n",
       " 0.5476555485451068,\n",
       " 0.544243053310539,\n",
       " 1.5994045960324266,\n",
       " 0.5141639773914105,\n",
       " 0.38396226104591846,\n",
       " 0.7369703505740315,\n",
       " -0.5882989196009822,\n",
       " 0.5814081770764318,\n",
       " -0.36561589288962903,\n",
       " 1.3738918861339082,\n",
       " -0.43536394785528726,\n",
       " 1.8209605999754108,\n",
       " -0.12972048382894275,\n",
       " 1.0829767249165703,\n",
       " -2.790704571965525,\n",
       " -1.9989136967009342,\n",
       " -0.40137420025782494,\n",
       " 0.07682025502293474,\n",
       " 0.5514336472328033,\n",
       " 0.6525239610295954,\n",
       " 1.3559338481978713,\n",
       " -0.033644236435616766,\n",
       " 0.48469884778269523,\n",
       " 1.78393589461971,\n",
       " 0.006521169649487036,\n",
       " -1.3173230587786635,\n",
       " 1.222845574437777,\n",
       " 2.729950351243684,\n",
       " 0.00231103201218195,\n",
       " -0.9014501798555533,\n",
       " -0.6756356833476967,\n",
       " -0.04900908691949103,\n",
       " -0.07574913688615077,\n",
       " -1.6900902684648962,\n",
       " 0.0937522939408205,\n",
       " -1.274483837282154,\n",
       " 0.5337620953051657,\n",
       " -0.7656052582936771,\n",
       " 0.4900898259923209,\n",
       " -0.36218687103702313,\n",
       " -0.8789153772867928,\n",
       " 1.292507730330843,\n",
       " 0.4034394724837904,\n",
       " -0.01516130695738374,\n",
       " 0.6810473040188848,\n",
       " -0.7499681838230609,\n",
       " -0.7401549889457165,\n",
       " 3.1770492090337226,\n",
       " -0.6750440364097342,\n",
       " 1.1153213159331132,\n",
       " 1.1381971011862269,\n",
       " -0.041564776396831,\n",
       " 1.8340426392379796,\n",
       " 0.45073258384369036,\n",
       " 0.8866220425680045,\n",
       " 1.5559940668995509,\n",
       " 0.4154211538295915,\n",
       " -0.18831094809021717,\n",
       " 1.5911210573646335,\n",
       " 0.28492815036235175,\n",
       " -0.8892895420464104,\n",
       " 0.4271623075284551,\n",
       " -0.16623750405301668,\n",
       " 0.5561861490840763,\n",
       " 0.625424157007391,\n",
       " -2.2031161287080394,\n",
       " 0.8148231581115668,\n",
       " 0.05519912930009615,\n",
       " 0.6806059524062916,\n",
       " 0.2920338069867736,\n",
       " -0.4322196645695267,\n",
       " -0.27692852012512054,\n",
       " 0.7308632201833498,\n",
       " -0.5095427237551251,\n",
       " -0.20080020307543273,\n",
       " -0.8934930842259935,\n",
       " 1.2903543936451296,\n",
       " 1.7915520509033132,\n",
       " 0.169777389990602,\n",
       " -2.3763641306938363,\n",
       " -0.6138801273462261,\n",
       " 2.3236611326145264,\n",
       " -0.9577716395155429,\n",
       " -0.6942107837055863,\n",
       " -0.1048216211978652,\n",
       " -1.3781707787198278,\n",
       " -1.9587442304904195,\n",
       " 1.1076735140357488,\n",
       " 0.07446421035521755,\n",
       " -0.71682623247402,\n",
       " -1.0454603199639927,\n",
       " 0.22517130190662946,\n",
       " 0.5534246271289928,\n",
       " 0.5910778499539608,\n",
       " -1.2976329862907634,\n",
       " -2.485411940977667,\n",
       " -0.47857450721803996,\n",
       " -0.9889398908257713,\n",
       " 0.5095698545480684,\n",
       " -0.3820250062028283,\n",
       " -0.19960484211602453,\n",
       " -0.2662543411296624,\n",
       " 0.521218119537891,\n",
       " 0.5314740113234833,\n",
       " -0.053525446961711444,\n",
       " -0.4020901700045416,\n",
       " 1.173612629167376,\n",
       " -0.1478133511314593,\n",
       " -0.07790248375645377,\n",
       " -1.634485918182853,\n",
       " 0.8160395839217304,\n",
       " -0.5707732406906844,\n",
       " -0.906541259040953,\n",
       " 0.48551226252974466,\n",
       " -2.0416527420326545,\n",
       " 1.3175899834573466,\n",
       " -0.7985850400258313,\n",
       " -0.08572590262526338,\n",
       " 1.23714334630108,\n",
       " -0.7650844671254853,\n",
       " -0.03675696567606598,\n",
       " -0.3959798158055222,\n",
       " 1.0717221674572313,\n",
       " -0.5422965585167859,\n",
       " 0.3256509308250101,\n",
       " -0.5117539759979784,\n",
       " 1.1163137959395635,\n",
       " 0.8367202973108471,\n",
       " 0.4198019802343309,\n",
       " 0.911509367416888,\n",
       " -2.838037492039313,\n",
       " 0.1797233292645619,\n",
       " -0.008330749621725236,\n",
       " -1.0333187637992607,\n",
       " -0.9164575904777755,\n",
       " 0.5219983538661096,\n",
       " 0.7776192342800547,\n",
       " -2.145674275295658,\n",
       " 0.37084194033661133,\n",
       " 0.17990671478516318,\n",
       " -0.20735333530930622,\n",
       " -0.6713081535973012,\n",
       " 0.7445018432386669,\n",
       " 0.7019774579607978,\n",
       " 0.3841219263759537,\n",
       " 0.6109331141958412,\n",
       " -0.007502125366376015,\n",
       " 0.360788142489273,\n",
       " -1.1146893966527511,\n",
       " 0.0963383154397229,\n",
       " 0.42244690346216973,\n",
       " -0.4603136013290347,\n",
       " -1.5204776203626598,\n",
       " 0.5882104538299358,\n",
       " 2.302242091511124,\n",
       " -0.19623426087266188,\n",
       " 0.3877959701431365,\n",
       " 0.9528179990627321,\n",
       " 1.1141718753368386,\n",
       " -1.742667316564824,\n",
       " 1.152307907871186,\n",
       " 0.7972038540964106,\n",
       " -0.11347309931232831,\n",
       " 0.12366088456459381,\n",
       " 0.934436514664184,\n",
       " 2.8029166389866504,\n",
       " -0.7711273616451304,\n",
       " 0.5547813990290384,\n",
       " 0.06114525365920337,\n",
       " -3.1777258757473863,\n",
       " 0.8840287841415737,\n",
       " 1.3798928771894174,\n",
       " 0.41457115414345286,\n",
       " 0.5863094519145252,\n",
       " 0.4154575157648682,\n",
       " 0.5264111254768152,\n",
       " -0.5589734990596175,\n",
       " -1.9749037812708599,\n",
       " 1.2890418296837802,\n",
       " -0.6773822875004041,\n",
       " 0.25407262917671464,\n",
       " 0.08291945210311805,\n",
       " -0.5438775277634235,\n",
       " 0.8166628071170723,\n",
       " 0.870822352504937,\n",
       " -0.6588490061887541,\n",
       " -0.5882262632738808,\n",
       " -0.8483587647211726,\n",
       " -0.15283365474005192,\n",
       " -0.7240012036998026,\n",
       " 0.7262128645148309,\n",
       " 1.2523650292334618,\n",
       " 0.27272234338044343,\n",
       " -0.946292478458103,\n",
       " -0.17778267770384384,\n",
       " -0.5996618929891284,\n",
       " -0.7618290364907041,\n",
       " -0.7341114615503427,\n",
       " -0.00800123350679592,\n",
       " -1.6839591354107324,\n",
       " 0.08901573105728121,\n",
       " -1.0639415647016248,\n",
       " 0.543637281116782,\n",
       " 0.9985797388529716,\n",
       " -0.56393734273034,\n",
       " 0.6635222690391605,\n",
       " -0.44253178166629176,\n",
       " 1.3536191640469766,\n",
       " -0.01998376610432393,\n",
       " 0.3485844025943247,\n",
       " -2.0559444279967973,\n",
       " -0.4435841712011615,\n",
       " -0.6457181087884734,\n",
       " -0.1088267264081361,\n",
       " -2.1480910978088925,\n",
       " 2.4424719271066793,\n",
       " 1.37322399794997,\n",
       " -0.46165143189132163,\n",
       " -1.1325965856841673,\n",
       " -1.5426000709487955,\n",
       " 2.208669461858808,\n",
       " 1.3885992901457076,\n",
       " 1.5221578576067833,\n",
       " 0.05003032148949909,\n",
       " -1.4837868712494686,\n",
       " 0.4898592471013208,\n",
       " -0.563399322458262,\n",
       " -1.7511711241717967,\n",
       " -0.6696201496719439,\n",
       " -0.7384322683643573,\n",
       " 0.5297845671859638,\n",
       " -0.7247486862999372,\n",
       " 0.9054171081648951,\n",
       " 0.33224841035947733,\n",
       " -1.4058521750558308,\n",
       " 0.69796075340514,\n",
       " -1.1123845017076326,\n",
       " -1.6525353041746411,\n",
       " 0.7773513433067207,\n",
       " 1.4651858883931999,\n",
       " -1.261822554461021,\n",
       " ...]"
      ]
     },
     "execution_count": 287,
     "metadata": {},
     "output_type": "execute_result"
    }
   ],
   "source": [
    "%timeit \n",
    "[normalvariate(0, 1) for _ in range(N)]"
   ]
  },
  {
   "cell_type": "code",
   "execution_count": 284,
   "metadata": {},
   "outputs": [
    {
     "data": {
      "text/plain": [
       "array([ 0.65830971,  1.71537074,  0.0124576 , ...,  1.21009999,\n",
       "        0.90802637, -0.72347307])"
      ]
     },
     "execution_count": 284,
     "metadata": {},
     "output_type": "execute_result"
    }
   ],
   "source": [
    "%timeit \n",
    "np.random.normal(size=N)"
   ]
  },
  {
   "cell_type": "code",
   "execution_count": 288,
   "metadata": {},
   "outputs": [],
   "source": [
    "np.random.seed(1234)"
   ]
  },
  {
   "cell_type": "code",
   "execution_count": 289,
   "metadata": {},
   "outputs": [],
   "source": [
    "rng = np.random.RandomState(1234)"
   ]
  },
  {
   "cell_type": "code",
   "execution_count": 290,
   "metadata": {},
   "outputs": [
    {
     "data": {
      "text/plain": [
       "array([ 0.47143516, -1.19097569,  1.43270697, -0.3126519 , -0.72058873,\n",
       "        0.88716294,  0.85958841, -0.6365235 ,  0.01569637, -2.24268495])"
      ]
     },
     "execution_count": 290,
     "metadata": {},
     "output_type": "execute_result"
    }
   ],
   "source": [
    "rng.randn(10)"
   ]
  },
  {
   "cell_type": "markdown",
   "metadata": {},
   "source": [
    "seed 随机数生成器的种子\n",
    "permutation 返回一个序列的随机排列或返回一个随机排列的范围\n",
    "shuffle 对一个序列就地随机排序\n",
    "rand 产生均匀分布的样本值\n",
    "randint 从给定的上下限范围内随机选取整数\n",
    "randn 产生正态分布 平均值为0 标准差为1\n",
    "binomial 产生二项分布的样本值\n",
    "normal 产生正态（高斯）分布的样本值\n",
    "beta 产生beta分布的样本值\n",
    "uniform 产生在```[0,1)```均匀分布的样本值"
   ]
  },
  {
   "cell_type": "code",
   "execution_count": 291,
   "metadata": {},
   "outputs": [],
   "source": [
    "arr = np.arange(24).reshape(2,3,4)"
   ]
  },
  {
   "cell_type": "code",
   "execution_count": 292,
   "metadata": {},
   "outputs": [
    {
     "data": {
      "text/plain": [
       "array([[[ 0,  1,  2,  3],\n",
       "        [ 4,  5,  6,  7],\n",
       "        [ 8,  9, 10, 11]],\n",
       "\n",
       "       [[12, 13, 14, 15],\n",
       "        [16, 17, 18, 19],\n",
       "        [20, 21, 22, 23]]])"
      ]
     },
     "execution_count": 292,
     "metadata": {},
     "output_type": "execute_result"
    }
   ],
   "source": [
    "arr"
   ]
  },
  {
   "cell_type": "code",
   "execution_count": 293,
   "metadata": {},
   "outputs": [
    {
     "data": {
      "text/plain": [
       "array([[[ 0,  1,  2,  3],\n",
       "        [12, 13, 14, 15]],\n",
       "\n",
       "       [[ 4,  5,  6,  7],\n",
       "        [16, 17, 18, 19]],\n",
       "\n",
       "       [[ 8,  9, 10, 11],\n",
       "        [20, 21, 22, 23]]])"
      ]
     },
     "execution_count": 293,
     "metadata": {},
     "output_type": "execute_result"
    }
   ],
   "source": [
    "arr.transpose(1,0,2)"
   ]
  },
  {
   "cell_type": "code",
   "execution_count": 295,
   "metadata": {},
   "outputs": [],
   "source": [
    "arr = np.arange(9).reshape(3,3)"
   ]
  },
  {
   "cell_type": "code",
   "execution_count": 296,
   "metadata": {},
   "outputs": [
    {
     "data": {
      "text/plain": [
       "array([[0, 1, 2],\n",
       "       [3, 4, 5],\n",
       "       [6, 7, 8]])"
      ]
     },
     "execution_count": 296,
     "metadata": {},
     "output_type": "execute_result"
    }
   ],
   "source": [
    "arr"
   ]
  },
  {
   "cell_type": "code",
   "execution_count": 297,
   "metadata": {},
   "outputs": [
    {
     "data": {
      "text/plain": [
       "array([[0, 3, 6],\n",
       "       [1, 4, 7],\n",
       "       [2, 5, 8]])"
      ]
     },
     "execution_count": 297,
     "metadata": {},
     "output_type": "execute_result"
    }
   ],
   "source": [
    "arr.transpose(1,0)"
   ]
  },
  {
   "cell_type": "markdown",
   "metadata": {},
   "source": [
    "所以什么是维度呢？维度不一定就是按照x-y-z这样来的，只要是一个固定的空间那就是一种维度，它更像是更大的集合。维度是一种集合，而不是单纯的一些点构成的空间。"
   ]
  }
 ],
 "metadata": {
  "kernelspec": {
   "display_name": "Python 3",
   "language": "python",
   "name": "python3"
  },
  "language_info": {
   "codemirror_mode": {
    "name": "ipython",
    "version": 3
   },
   "file_extension": ".py",
   "mimetype": "text/x-python",
   "name": "python",
   "nbconvert_exporter": "python",
   "pygments_lexer": "ipython3",
   "version": "3.6.5"
  }
 },
 "nbformat": 4,
 "nbformat_minor": 2
}
